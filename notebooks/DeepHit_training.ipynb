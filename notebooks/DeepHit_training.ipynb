{
 "cells": [
  {
   "cell_type": "code",
   "execution_count": 1,
   "id": "93405466-3a26-4fb0-a474-4a730bcc71d3",
   "metadata": {},
   "outputs": [],
   "source": [
    "\"\"\"Pipeline training script.\"\"\"\n",
    "import pandas as pd\n",
    "pd.set_option('display.max_columns', None)\n",
    "\n",
    "# DL for survival\n",
    "import pycox\n",
    "from pycox.models import DeepHitSingle, CoxPH\n",
    "from pycox.evaluation import EvalSurv\n",
    "\n",
    "\n",
    "from sklearn_pandas import DataFrameMapper\n",
    "import torchtuples as tt\n",
    "from pycox.evaluation import EvalSurv\n",
    "\n",
    "import torch\n",
    "import torchtuples as tt\n",
    "import argparse\n",
    "import joblib\n",
    "import numpy as np\n",
    "\n",
    "from sklearn.pipeline import Pipeline\n",
    "from sklearn.model_selection import KFold, train_test_split\n",
    "\n",
    "%load_ext autoreload\n",
    "%autoreload 2\n",
    "\n",
    "from sklearn.pipeline import Pipeline\n",
    "from derma.general.preprocessing.transformers import (TransformToNumeric, \n",
    "                                                      TransformToDatetime, \n",
    "                                                      ComputeAge,\n",
    "                                                      TransformToObject,\n",
    "                                                      KeepColumns,\n",
    "                                                      ComputeAJCC,\n",
    "                                                      LinkTumourPartToParent,\n",
    "                                                      TransformCbRegression,\n",
    "                                                      ConvertCategoriesToNaN,\n",
    "                                                      ExponentialTransformer,\n",
    "                                                      RenameLabValues,\n",
    "                                                      CustomScaler,\n",
    "                                                      CustomImputer)\n",
    "\n",
    "from derma.general.preprocessing.encoders import (OrdinalEncoder,\n",
    "                                                  GenderEncoder,\n",
    "                                                  AbsentPresentEncoder,\n",
    "                                                  LABEncoder,\n",
    "                                                  CategoricalEncoder)\n",
    "\n",
    "\n",
    "from derma.general.ingestion.data_loader_csv import SurvivalLoader\n",
    "import config_os as settings_file"
   ]
  },
  {
   "cell_type": "code",
   "execution_count": 2,
   "id": "f39e1808-86b0-473d-bf03-6e6b41ca93a2",
   "metadata": {},
   "outputs": [
    {
     "name": "stderr",
     "output_type": "stream",
     "text": [
      "/home/carlos.hernandez/dl/lib/python3.8/site-packages/pandas/core/frame.py:3069: SettingWithCopyWarning: \n",
      "A value is trying to be set on a copy of a slice from a DataFrame.\n",
      "Try using .loc[row_indexer,col_indexer] = value instead\n",
      "\n",
      "See the caveats in the documentation: https://pandas.pydata.org/pandas-docs/stable/user_guide/indexing.html#returning-a-view-versus-a-copy\n",
      "  self[k1] = value[k2]\n",
      "/home/carlos.hernandez/PhD/marato-derma/derma/general/ingestion/data_loader_csv.py:199: SettingWithCopyWarning: \n",
      "A value is trying to be set on a copy of a slice from a DataFrame.\n",
      "Try using .loc[row_indexer,col_indexer] = value instead\n",
      "\n",
      "See the caveats in the documentation: https://pandas.pydata.org/pandas-docs/stable/user_guide/indexing.html#returning-a-view-versus-a-copy\n",
      "  target['time'] = (target['date'] - target['cb_examined_at']\n"
     ]
    }
   ],
   "source": [
    "path = '/home/carlos.hernandez/datasets/csvs/data-surv_20220302.csv'\n",
    "#X, target = SurvivalLoader('os').load_data(path)\n",
    "X, _, time, event = SurvivalLoader('os').load_data(path)\n",
    "\n",
    "target = [time, event]\n",
    "X['duration'] = round(time)\n",
    "X['event']    = event\n",
    "X.dropna(subset=['duration'],inplace=True)\n",
    "X = X[X['duration']>=0]\n",
    "\n",
    "pipe = Pipeline(steps=[\n",
    "    ('TransformToNumeric', TransformToNumeric(**settings_file.transform_to_numeric)), \n",
    "    ('TransformToDatetime', TransformToDatetime(**settings_file.transform_to_datetime)),\n",
    "    ('TransformToObject', TransformToObject(**settings_file.transform_to_object)),\n",
    "    ('ComputeAge', ComputeAge(**settings_file.compute_age)),\n",
    "    ('tr_tm', LinkTumourPartToParent(**settings_file.link_tumour_part_to_parent)),\n",
    "    ('tr_cb', TransformCbRegression(**settings_file.transform_cb_regression)),\n",
    "    ('tr0', ConvertCategoriesToNaN(**settings_file.convert_categories_to_nan)),\n",
    "    ('tr2', GenderEncoder(**settings_file.gender_encoder)),\n",
    "    ('tr3', AbsentPresentEncoder(**settings_file.absent_present_encoder)),\n",
    "    (\"tr4\", CategoricalEncoder(**settings_file.categorical_encoder)),\n",
    "    ('tr7', LABEncoder(**settings_file.lab_encoder)),\n",
    "    ('OrdinalEncoder', OrdinalEncoder(**settings_file.ordinal_encoder)),\n",
    "    ('ComputeAJCC', ComputeAJCC(**settings_file.compute_ajcc)),\n",
    "    ('tr5', ExponentialTransformer(**settings_file.exponential_transformer)),\n",
    "    ('KeepColumns', KeepColumns(**settings_file.keep_cols)),\n",
    "    ('CustomImputer', CustomImputer(strategy='mean')),\n",
    "    ('CustomScaler', CustomScaler()),\n",
    "    ('RenameLabValues', RenameLabValues(**settings_file.rename_lab_values)),\n",
    "    ])\n",
    "\n",
    "label = X[['duration', 'event']]"
   ]
  },
  {
   "cell_type": "code",
   "execution_count": 3,
   "id": "a616dd21-b65f-4594-acbb-5202c8c595ec",
   "metadata": {},
   "outputs": [],
   "source": [
    "splits = []\n",
    "labels = []\n",
    "\n",
    "for i in range(5):\n",
    "    X_train, X_test, y_train, y_test = train_test_split(X, label,\n",
    "                                            test_size=0.2, random_state=i)\n",
    "    X_test, X_val, y_test, y_val = train_test_split(X_test, y_test,\n",
    "                                            test_size=0.5, random_state=i)\n",
    "    \n",
    "    X_train = pipe.fit_transform(X_train.copy(), y_train)\n",
    "    X_val   = pipe.transform(X_val)\n",
    "    X_test  = pipe.transform(X_test)\n",
    "    \n",
    "    splits.append([X_train, X_val, X_test])\n",
    "    labels.append([y_train, y_val, y_test])"
   ]
  },
  {
   "cell_type": "code",
   "execution_count": 4,
   "id": "8a002a2e-e849-449d-bd54-325806ab5f39",
   "metadata": {},
   "outputs": [],
   "source": [
    "in_features = X_train.shape[1]\n",
    "num_nodes = [32, 32]\n",
    "batch_norm = True\n",
    "dropout = 0.1\n",
    "output_bias = False\n",
    "batch_size = 256\n",
    "epochs = 512\n",
    "get_target = lambda df: (df['duration'].values, df['event'].values)\n",
    "callbacks = [tt.callbacks.EarlyStopping()]\n",
    "verbose = True\n",
    "num_durations = 50\n",
    "labtrans = DeepHitSingle.label_transform(num_durations)"
   ]
  },
  {
   "cell_type": "code",
   "execution_count": 7,
   "id": "bbf4c9a6-73cd-41e3-84c0-6c5ce11283be",
   "metadata": {},
   "outputs": [
    {
     "name": "stdout",
     "output_type": "stream",
     "text": [
      "--------------------\n",
      "Split # 0:\n",
      "--------------------\n",
      "(2962, 68)\n",
      "C_index for the split is -> 0.792\n",
      "Brier score: 0.2807 +- 0.0\n",
      "C-index test: 0.7917 +- 0.0\n"
     ]
    },
    {
     "data": {
      "image/png": "[encoded data removed]",
      "text/plain": [
       "<Figure size 432x288 with 1 Axes>"
      ]
     },
     "metadata": {
      "needs_background": "light"
     },
     "output_type": "display_data"
    }
   ],
   "source": [
    "results = []\n",
    "brier   = []\n",
    "for i, (data, label) in enumerate(zip(splits, labels)):\n",
    "    print(f'{20*\"-\"}\\nSplit # {i}:\\n{20*\"-\"}')\n",
    "    print(data[0].shape)\n",
    "    # Obtain labels\n",
    "    y_train = labtrans.fit_transform(*get_target(label[0]))\n",
    "    y_val = labtrans.transform(*get_target(label[1]))\n",
    "    y_test  = get_target(label[2])\n",
    "    \n",
    "    # Transform data into numpy arrays\n",
    "    leave = [(col, None) for col in data[0].columns]\n",
    "    x_mapper = DataFrameMapper(leave)\n",
    "    x_train = x_mapper.fit_transform(data[0]).astype('float32')\n",
    "    x_val = x_mapper.transform(data[1]).astype('float32')\n",
    "    x_test = x_mapper.transform(data[2]).astype('float32')\n",
    "    \n",
    "   # y_train = [(1, float(x[1])) if x[0] else (0, float(x[1])) for x in y_train]\n",
    "   # y_train = np.array(y_train).astype(float)\n",
    "   # y_val = [(1, float(x[1])) if x[0] else (0, float(x[1])) for x in y_val]\n",
    "   # y_val = np.array(y_val).astype(float)\n",
    "    val = x_val, y_val\n",
    "    \n",
    "    # Instantiate the model\n",
    "    net = tt.practical.MLPVanilla(in_features, num_nodes, labtrans.out_features,\n",
    "                                  batch_norm, dropout, output_bias=output_bias)\n",
    "    model = DeepHitSingle(net, tt.optim.Adam, alpha=0.2, sigma=0.1, duration_index=labtrans.cuts)\n",
    "    callbacks = [tt.callbacks.EarlyStopping()]\n",
    "    model.optimizer.set_lr(0.001)\n",
    "    # Train!\n",
    "    log = model.fit(input=x_train, target=y_train, batch_size=batch_size,\n",
    "                    epochs=epochs, callbacks=callbacks, verbose=False,\n",
    "                        val_data=val, val_batch_size=batch_size)\n",
    "    _ = log.plot()\n",
    "    # See how good we trained!\n",
    "    surv = model.interpolate(10).predict_surv_df(x_test)\n",
    "    ev = EvalSurv(surv, y_test[0], y_test[1], censor_surv='km')\n",
    "    c_index = ev.concordance_td('antolini')\n",
    "    time_grid = np.linspace(y_test[0].min(), y_test[0].max(),50)\n",
    "    ib_score = ev.integrated_brier_score(time_grid)\n",
    "    \n",
    "    brier.append(ib_score)\n",
    "    results.append(c_index)\n",
    "    print(f'C_index for the split is -> {round(c_index,3)}')\n",
    "    break\n",
    "print(f'Brier score: {round(np.mean(brier),4)} +- {np.std(brier)}')\n",
    "print(f'C-index test: {round(np.mean(results),4)} +- {np.std(results)}')"
   ]
  },
  {
   "cell_type": "markdown",
   "id": "5c18d98f-0946-495c-bf35-24d41fbedab9",
   "metadata": {},
   "source": [
    "## From here onwards its SurvTIME! (joke)"
   ]
  },
  {
   "cell_type": "code",
   "execution_count": null,
   "id": "31ef6c21-e566-4911-b861-ac956cb54ed4",
   "metadata": {},
   "outputs": [],
   "source": [
    "y_train_fixed = (y_train[0], [True if 1 else False for x in y_train[1]])\n",
    "unique_times = list(set(train_times))\n",
    "unique_times.sort()\n",
    "\n",
    "len(unique_times)"
   ]
  }
 ],
 "metadata": {
  "kernelspec": {
   "display_name": "Python 3 (ipykernel)",
   "language": "python",
   "name": "python3"
  },
  "language_info": {
   "codemirror_mode": {
    "name": "ipython",
    "version": 3
   },
   "file_extension": ".py",
   "mimetype": "text/x-python",
   "name": "python",
   "nbconvert_exporter": "python",
   "pygments_lexer": "ipython3",
   "version": "3.8.10"
  }
 },
 "nbformat": 4,
 "nbformat_minor": 5
}
