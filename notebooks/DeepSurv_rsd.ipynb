{
 "cells": [
  {
   "cell_type": "code",
   "execution_count": 1,
   "metadata": {},
   "outputs": [],
   "source": [
    "%load_ext autoreload\n",
    "%autoreload 2\n",
    "import numpy as np\n",
    "from survlimepy import SurvLimeExplainer\n",
    "from survlimepy.load_datasets import RandomSurvivalData\n",
    "import pandas as pd\n",
    "from pycox.models import DeepHitSingle, CoxPH\n",
    "from pycox.evaluation import EvalSurv\n",
    "import torchtuples as tt\n",
    "import seaborn as sns"
   ]
  },
  {
   "cell_type": "code",
   "execution_count": null,
   "metadata": {},
   "outputs": [],
   "source": [
    "# Generate data for the first cluster\n",
    "n_points_1 = 1000\n",
    "true_coef_1 = [10**(-6), 0.1, -0.15, 10**(-6), 10**(-6)]\n",
    "r_1 = 8\n",
    "center_1 = [0, 0, 0, 0, 0]\n",
    "prob_event_1 = 0.9\n",
    "lambda_weibull_1 = 10**(-5)\n",
    "v_weibull_1 = 2\n",
    "n_features_1 = len(true_coef_1)\n",
    "\n",
    "rsd_1 = RandomSurvivalData(\n",
    "    center=center_1,\n",
    "    radius=r_1,\n",
    "    coefficients=true_coef_1,\n",
    "    prob_event=prob_event_1,\n",
    "    lambda_weibull=lambda_weibull_1,\n",
    "    v_weibull=v_weibull_1,\n",
    "    time_cap=2000,\n",
    "    random_seed=90,\n",
    ")\n",
    "\n",
    "X_1, time_to_event_1, delta_1 = rsd_1.random_survival_data(num_points=n_points_1)"
   ]
  },
  {
   "cell_type": "code",
   "execution_count": 29,
   "metadata": {},
   "outputs": [],
   "source": [
    "\n",
    "# Train test split for the first cluster\n",
    "n_train_1 = 900\n",
    "np.random.seed(90)\n",
    "all_idx_1 = np.arange(X_1.shape[0])\n",
    "idx_train_1 = np.random.choice(a=all_idx_1, size=n_train_1, replace=False)\n",
    "idx_test_1 = [i for i in all_idx_1 if i not in idx_train_1]\n",
    "X_train_1 = X_1[idx_train_1, :]\n",
    "X_test_1 = X_1[idx_test_1, :]\n",
    "time_to_event_train_1 = [time_to_event_1[i] for i in idx_train_1]\n",
    "time_to_event_test_1 = [time_to_event_1[i] for i in idx_test_1]\n",
    "delta_train_1 = [delta_1[i] for i in idx_train_1]\n",
    "delta_test_1 = [delta_1[i] for i in idx_test_1]\n",
    "z_train_1 = [(d, t) for d, t in zip(delta_train_1, time_to_event_train_1)]\n",
    "y_train_1 = np.array(z_train_1, dtype=[(\"delta\", np.bool_), (\"time_to_event\", np.float32)])"
   ]
  },
  {
   "cell_type": "code",
   "execution_count": 30,
   "metadata": {},
   "outputs": [],
   "source": [
    "# Transform the data in order to have the DeepHit format\n",
    "X_transformed_train = X_train_1.astype('float32')\n",
    "X_transformed_test = X_test_1.astype('float32')"
   ]
  },
  {
   "cell_type": "code",
   "execution_count": 32,
   "metadata": {},
   "outputs": [
    {
     "data": {
      "text/plain": [
       "0.6817454877770163"
      ]
     },
     "execution_count": 32,
     "metadata": {},
     "output_type": "execute_result"
    }
   ],
   "source": [
    "from sksurv.linear_model import CoxPHSurvivalAnalysis\n",
    "cox = CoxPHSurvivalAnalysis(alpha=0.0005)\n",
    "cox.fit(X_transformed_train,y_train_1)\n",
    "\n",
    "z_test_1 = [(d, t) for d, t in zip(delta_test_1, time_to_event_test_1)]\n",
    "y_test_1 = np.array(z_test_1, dtype=[(\"delta\", np.bool_), (\"time_to_event\", np.float32)]) \n",
    "cox.score(X_transformed_test, y_test_1)"
   ]
  },
  {
   "cell_type": "code",
   "execution_count": null,
   "metadata": {},
   "outputs": [],
   "source": [
    "get_target = lambda df: (df['duration'].values, df['event'].values)"
   ]
  },
  {
   "cell_type": "code",
   "execution_count": null,
   "metadata": {},
   "outputs": [],
   "source": [
    "y_df_train = pd.DataFrame(data={'duration': time_to_event_train_1, 'event': delta_train_1})\n",
    "y_deepsurv_train = get_target(y_df_train)"
   ]
  },
  {
   "cell_type": "code",
   "execution_count": null,
   "metadata": {},
   "outputs": [],
   "source": [
    "y_df_test = pd.DataFrame(data={'duration': time_to_event_test_1, 'event': delta_test_1})\n",
    "durations_test, events_test = get_target(y_df_test)"
   ]
  },
  {
   "cell_type": "code",
   "execution_count": null,
   "metadata": {},
   "outputs": [],
   "source": [
    "in_features = X_transformed_train.shape[1]\n",
    "num_nodes = [32, 32]\n",
    "batch_norm = True\n",
    "dropout = 0.1\n",
    "output_bias = False\n",
    "batch_size = 256\n",
    "epochs = 512"
   ]
  },
  {
   "cell_type": "code",
   "execution_count": null,
   "metadata": {},
   "outputs": [],
   "source": [
    "net_deep_surv = tt.practical.MLPVanilla(in_features, num_nodes, 1, batch_norm,dropout, output_bias=output_bias)\n",
    "deep_surv = CoxPH(net_deep_surv, tt.optim.Adam())\n",
    "deep_surv.optimizer.set_lr(0.001)\n",
    "log = deep_surv.fit(\n",
    "    input=X_transformed_train,\n",
    "    target=y_deepsurv_train,\n",
    "    batch_size=batch_size,\n",
    "    epochs=epochs,\n",
    "    verbose=False\n",
    ")"
   ]
  },
  {
   "cell_type": "code",
   "execution_count": null,
   "metadata": {},
   "outputs": [
    {
     "data": {
      "text/plain": [
       "duration\n",
       "2.204481       0.000805\n",
       "12.782281      0.000807\n",
       "14.982987      0.000808\n",
       "15.937723      0.000000\n",
       "19.528277      0.000811\n",
       "                 ...   \n",
       "882.193154     0.757519\n",
       "910.560225     0.960525\n",
       "990.689093     1.313143\n",
       "1091.135661    2.541550\n",
       "1110.080583    4.821452\n",
       "Name: baseline_hazards, Length: 900, dtype: float64"
      ]
     },
     "execution_count": 10,
     "metadata": {},
     "output_type": "execute_result"
    }
   ],
   "source": [
    "deep_surv.compute_baseline_hazards()"
   ]
  },
  {
   "cell_type": "code",
   "execution_count": null,
   "metadata": {},
   "outputs": [],
   "source": [
    "predictions = deep_surv.predict_surv_df(X_transformed_test)"
   ]
  },
  {
   "cell_type": "code",
   "execution_count": null,
   "metadata": {},
   "outputs": [],
   "source": [
    "ev = EvalSurv(predictions, durations_test, events_test, censor_surv='km')"
   ]
  },
  {
   "cell_type": "code",
   "execution_count": null,
   "metadata": {},
   "outputs": [
    {
     "data": {
      "text/plain": [
       "0.6687228695453507"
      ]
     },
     "execution_count": 13,
     "metadata": {},
     "output_type": "execute_result"
    }
   ],
   "source": [
    "ev.concordance_td()"
   ]
  },
  {
   "cell_type": "code",
   "execution_count": null,
   "metadata": {},
   "outputs": [],
   "source": [
    "def create_chf(fun):\n",
    "    def inner(X):\n",
    "        Y = fun(X)\n",
    "        return Y.T\n",
    "    return inner\n",
    "\n",
    "predict_chf = create_chf(deep_surv.predict_cumulative_hazards)"
   ]
  },
  {
   "cell_type": "code",
   "execution_count": null,
   "metadata": {},
   "outputs": [
    {
     "data": {
      "text/plain": [
       "array([-3.0509382 ,  1.9318789 , -1.3668663 ,  5.70106743,  1.34279557])"
      ]
     },
     "execution_count": 15,
     "metadata": {},
     "output_type": "execute_result"
    }
   ],
   "source": [
    "X_test_1[0]"
   ]
  },
  {
   "cell_type": "code",
   "execution_count": null,
   "metadata": {},
   "outputs": [
    {
     "data": {
      "image/png": "[encoded data removed]",
      "text/plain": [
       "<Figure size 720x720 with 1 Axes>"
      ]
     },
     "metadata": {
      "needs_background": "light"
     },
     "output_type": "display_data"
    }
   ],
   "source": [
    "explainer_deepsurv = SurvLimeExplainer(\n",
    "    training_features=X_transformed_test,\n",
    "    training_events=delta_test_1,\n",
    "    training_times=time_to_event_test_1,\n",
    "    model_output_times=np.sort(np.unique(time_to_event_train_1)),\n",
    "    random_state=10,\n",
    ")\n",
    "\n",
    "b_deepsurv = explainer_deepsurv.explain_instance(\n",
    "    data_row=X_test_1[0],\n",
    "    predict_fn=predict_chf,\n",
    "    num_samples=1000,\n",
    "    verbose=False,\n",
    ")\n",
    "\n",
    "explainer_deepsurv.plot_weights()"
   ]
  },
  {
   "cell_type": "code",
   "execution_count": null,
   "metadata": {},
   "outputs": [],
   "source": [
    "true_coef_1 = [10**(-6), 0.1, -0.15, 10**(-6), 10**(-6)]"
   ]
  },
  {
   "cell_type": "code",
   "execution_count": null,
   "metadata": {},
   "outputs": [],
   "source": [
    "explainer_deepsurv = SurvLimeExplainer(\n",
    "    training_features=X_transformed_test,\n",
    "    training_events=delta_test_1,\n",
    "    training_times=time_to_event_test_1,\n",
    "    model_output_times=np.sort(np.unique(time_to_event_train_1)),\n",
    "    random_state=10,\n",
    ")\n",
    "\n",
    "b_deepsurv = explainer_deepsurv.montecarlo_explanation(\n",
    "    data=X_test_1[:10],\n",
    "    predict_fn=predict_chf,\n",
    "    num_samples=1000,\n",
    "    verbose=False,\n",
    ")"
   ]
  },
  {
   "cell_type": "code",
   "execution_count": null,
   "metadata": {},
   "outputs": [],
   "source": [
    "explainer_deepsurv.plot_montecarlo_weights(feature_names=[\"one\", \"two\", \"three\", \"four\", \"five\"])"
   ]
  },
  {
   "cell_type": "code",
   "execution_count": null,
   "metadata": {},
   "outputs": [],
   "source": [
    "b_deepsurv"
   ]
  },
  {
   "cell_type": "code",
   "execution_count": 3,
   "metadata": {},
   "outputs": [
    {
     "name": "stdout",
     "output_type": "stream",
     "text": [
      "one     -0.000941\n",
      "two      0.070189\n",
      "three   -0.111271\n",
      "four    -0.006609\n",
      "five    -0.003426\n",
      "dtype: float64\n"
     ]
    },
    {
     "data": {
      "image/png": "[encoded data removed]",
      "text/plain": [
       "<Figure size 792x504 with 1 Axes>"
      ]
     },
     "metadata": {},
     "output_type": "display_data"
    }
   ],
   "source": [
    "\n",
    "w_path = f'/home/carlos.hernandez/PhD/survlime-paper/survLime/computed_weights_csv/exp_deepsurv_rds/'\n",
    "models= ['deepsurv']\n",
    "for model_type in models:\n",
    "    data = pd.read_csv(w_path+f'exp_deepsurv_rds_surv_weights_100.csv')\n",
    "    #data_2 = pd.read_csv(w_path+f'exp_deepsurv_rds_surv_weights_2.csv')\n",
    " #   import ipdb;ipdb.set_trace()\n",
    "   # data = pd.concat([data, data_2], axis=0)\n",
    "    median_up = {}\n",
    "    median_down = {}\n",
    "    threshold = 0\n",
    "    print(data.median())\n",
    "    for (columnName, columnData) in data.items():\n",
    "        median_value = np.median(columnData)\n",
    "        if median_value > threshold:\n",
    "            median_up[columnName] = median_value\n",
    "        else:\n",
    "            median_down[columnName] = median_value\n",
    "\n",
    "    median_up = dict(\n",
    "        sorted(median_up.items(), key=lambda item: item[1], reverse=True)\n",
    "    )\n",
    "    median_down = dict(\n",
    "        sorted(median_down.items(), key=lambda item: item[1], reverse=True)\n",
    "    )\n",
    "\n",
    "    pal_up = sns.color_palette(\"Reds_r\", n_colors=len(median_up))\n",
    "    pal_down = sns.color_palette(\"Blues\", n_colors=len(median_down))\n",
    "    colors_up = {key: val for key, val in zip(median_up.keys(), pal_up)}\n",
    "    colors_down = {key: val for key, val in zip(median_down.keys(), pal_down)}\n",
    "    custom_pal = {**colors_up, **colors_down}\n",
    "    data_reindex = data.reindex(columns=custom_pal.keys())\n",
    "    data_melt = pd.melt(data_reindex)\n",
    "\n",
    "    _, ax = plt.subplots(figsize=(11,7))\n",
    "    ax.tick_params(labelrotation=90)\n",
    "    p = sns.boxenplot(\n",
    "        x=\"variable\",\n",
    "        y=\"value\",\n",
    "        data=data_melt,\n",
    "        palette=custom_pal,\n",
    "        ax=ax,\n",
    "    )\n",
    "\n",
    "    p.set_xlabel('Features', fontsize= 14)\n",
    "    p.set_ylabel('SurvLIME value', fontsize= 14)\n",
    "    p.yaxis.grid(True)\n",
    "    p.xaxis.grid(True)\n",
    "\n",
    "    p.set_title(f'DeepSurv RSD SurvLIME values', fontsize= 16, fontweight='bold');\n",
    "\n",
    "\n",
    "    plt.xticks(fontsize=16, rotation=90)\n",
    "    plt.yticks(fontsize=14, rotation=0)\n",
    "\n",
    "#    plt.savefig(f'/home/carlos.hernandez/PhD/survlime-paper/notebooks/figures/final_figures/deepsurv_rds_montecarlo.png',  bbox_inches='tight', dpi=200)\n"
   ]
  },
  {
   "cell_type": "code",
   "execution_count": 2,
   "metadata": {},
   "outputs": [
    {
     "name": "stderr",
     "output_type": "stream",
     "text": [
      "<frozen importlib._bootstrap>:219: RuntimeWarning: sklearn.tree._splitter.Splitter size changed, may indicate binary incompatibility. Expected 360 from C header, got 1160 from PyObject\n"
     ]
    }
   ],
   "source": [
    "%load_ext autoreload\n",
    "%autoreload 2\n",
    "\n",
    "\n",
    "import numpy as np\n",
    "import pandas as pd\n",
    "from math import sqrt\n",
    "import scipy as sp\n",
    "\n",
    "import seaborn as sns\n",
    "sns.set()\n",
    "import matplotlib.pyplot as plt\n",
    "from sklearn.metrics import mean_squared_error\n",
    "\n",
    "\n",
    "from sksurv.util import Surv\n",
    "from sksurv.linear_model import CoxPHSurvivalAnalysis\n",
    "from sksurv.ensemble import RandomSurvivalForest\n",
    "from sklearn.model_selection import train_test_split\n",
    "from sklearn.preprocessing import OneHotEncoder, StandardScaler\n",
    "from sksurv.metrics import concordance_index_censored\n",
    "\n"
   ]
  },
  {
   "cell_type": "code",
   "execution_count": null,
   "metadata": {},
   "outputs": [],
   "source": []
  }
 ],
 "metadata": {
  "kernelspec": {
   "display_name": "Python 3 (ipykernel)",
   "language": "python",
   "name": "python3"
  },
  "language_info": {
   "codemirror_mode": {
    "name": "ipython",
    "version": 3
   },
   "file_extension": ".py",
   "mimetype": "text/x-python",
   "name": "python",
   "nbconvert_exporter": "python",
   "pygments_lexer": "ipython3",
   "version": "3.8.10"
  }
 },
 "nbformat": 4,
 "nbformat_minor": 4
}
