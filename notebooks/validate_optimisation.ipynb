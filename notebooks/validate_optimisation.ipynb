{
 "cells": [
  {
   "cell_type": "code",
   "execution_count": null,
   "id": "d7dc8262",
   "metadata": {},
   "outputs": [],
   "source": [
    "import cvxpy as cp\n",
    "import numpy as np"
   ]
  },
  {
   "cell_type": "code",
   "execution_count": null,
   "id": "6f810c2e",
   "metadata": {},
   "outputs": [],
   "source": [
    "# Initial variables\n",
    "np.random.seed(42)\n",
    "p = 2\n",
    "m = 5\n",
    "N = 10\n",
    "H = np.random.uniform(low=0.0, high=1.0, size=(N, m+1))\n",
    "LnH = np.log(H)\n",
    "b = cp.Variable(shape=(p, 1))\n",
    "H0 = np.random.uniform(low=0.0, high=1.0, size=(m+1, 1))\n",
    "LnH0 = np.log(H0)\n",
    "w = np.random.uniform(low=0.0, high=1.0, size=(N, 1))\n",
    "X = np.random.uniform(low=0.0, high=1.0, size=(N, p))\n",
    "t = np.sort(np.random.uniform(low=0.0, high=10.0, size=(m+2, 1)), axis=0)\n",
    "delta_t = [t[i+1, 0] - t[i, 0] for i in range(m+1)]\n",
    "delta_t = np.reshape(np.array(delta_t), newshape=(m+1, 1))"
   ]
  },
  {
   "cell_type": "code",
   "execution_count": null,
   "id": "5cce0694",
   "metadata": {},
   "outputs": [],
   "source": [
    "D.shape"
   ]
  },
  {
   "cell_type": "code",
   "execution_count": null,
   "id": "cfcff70f",
   "metadata": {},
   "outputs": [],
   "source": [
    "# Matrixwise expression\n",
    "ones_N = np.ones(shape=(N, 1))\n",
    "ones_m_1 = np.ones(shape=(m+1, 1))\n",
    "B = np.dot(ones_N, LnH0.T)\n",
    "C = LnH-B\n",
    "Z = X@b\n",
    "D = Z@ones_m_1.T\n",
    "E = C - D\n",
    "E_sq = cp.square(E)\n",
    "F = E_sq@delta_t\n",
    "funct = F.T@w\n",
    "objective = cp.Minimize(F.T@w)\n",
    "prob = cp.Problem(objective)\n",
    "result = prob.solve()"
   ]
  },
  {
   "cell_type": "code",
   "execution_count": null,
   "id": "a54f03b3",
   "metadata": {},
   "outputs": [],
   "source": [
    "b.value"
   ]
  }
 ],
 "metadata": {
  "kernelspec": {
   "display_name": ".sv_paper",
   "language": "python",
   "name": ".sv_paper"
  },
  "language_info": {
   "codemirror_mode": {
    "name": "ipython",
    "version": 3
   },
   "file_extension": ".py",
   "mimetype": "text/x-python",
   "name": "python",
   "nbconvert_exporter": "python",
   "pygments_lexer": "ipython3",
   "version": "3.9.7"
  }
 },
 "nbformat": 4,
 "nbformat_minor": 5
}
