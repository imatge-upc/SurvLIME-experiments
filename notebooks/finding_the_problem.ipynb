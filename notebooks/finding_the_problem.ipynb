{
 "cells": [
  {
   "cell_type": "code",
   "execution_count": 2,
   "id": "49eb31d5-f9c3-4a5a-89b8-c543b8f9e4bd",
   "metadata": {},
   "outputs": [
    {
     "name": "stdout",
     "output_type": "stream",
     "text": [
      "The autoreload extension is already loaded. To reload it, use:\n",
      "  %reload_ext autoreload\n"
     ]
    }
   ],
   "source": [
    "%load_ext autoreload\n",
    "%autoreload 2\n",
    "\n",
    "import cvxpy as cp\n",
    "import numpy as np\n",
    "import pandas as pd\n",
    "import matplotlib.pyplot as plt\n",
    "from sksurv.linear_model import CoxPHSurvivalAnalysis\n",
    "from sklearn.model_selection import train_test_split\n",
    "from survLime.datasets.load_datasets import RandomSurvivalData\n",
    "from survLime import survlime_tabular\n",
    "from survLime.scripts.experiment_1 import create_clusters\n",
    "from survLime.utils.generic_utils import compare_survival_times,compare_cum_hazard_curves\n",
    "\n",
    "np.random.seed(42)\n",
    "\n",
    "# Create clusters can be found in scripts/experiment_1\n",
    "cluster_0, cluster_1 = create_clusters()\n",
    "x_train_1, x_test_1, y_train_1, y_test_1 = train_test_split(cluster_0[0], cluster_0[1], test_size=0.1)"
   ]
  },
  {
   "cell_type": "code",
   "execution_count": 11,
   "id": "00d68631-9152-46ec-adb7-0e7133416f9e",
   "metadata": {},
   "outputs": [],
   "source": [
    "# Train bb model\n",
    "columns =['one']\n",
    "model = CoxPHSurvivalAnalysis(alpha=0.0001)\n",
    "model.fit(x_train_1, y_train_1)\n",
    "model.feature_names_in_ = columns # This is needed in order to compare survival times later\n",
    "\n",
    "# Obtain a test point to use for prediction\n",
    "test_point = x_test_1[0]"
   ]
  },
  {
   "cell_type": "code",
   "execution_count": 29,
   "id": "bbd456a5-0fa1-4393-b5d9-04d10715dae7",
   "metadata": {},
   "outputs": [
    {
     "name": "stderr",
     "output_type": "stream",
     "text": [
      "/home/carlos.hernandez/dl/lib/python3.8/site-packages/sklearn/base.py:450: UserWarning: X does not have valid feature names, but CoxPHSurvivalAnalysis was fitted with feature names\n",
      "  warnings.warn(\n"
     ]
    }
   ],
   "source": [
    "# We instantiate an explainer (found in survlime_tabular)\n",
    "\n",
    "# ['one','two',' three', 'four', 'five']\n",
    "\n",
    "explainer = survlime_tabular.LimeTabularExplainer(x_train_1, y_train_1,\n",
    "                                                  feature_names= columns,\n",
    "                                                  class_names=None, \n",
    "                                                  categorical_features=None,\n",
    "                                                  verbose=True, discretize_continuous=False)\n",
    "num_neighbours = 10000\n",
    "# From here we are only using log_correction, Ho_t_ and inverse \n",
    "H_i_j_wc, weights, log_correction, Ho_t_, scaled_data, inverse, distances = explainer.explain_instance(test_point\n",
    "                                                                ,model.predict_cumulative_hazard_function,\n",
    "                                                            num_samples = num_neighbours)"
   ]
  },
  {
   "cell_type": "markdown",
   "id": "989057ab-d55f-4a9b-91fb-136a40a0c9a8",
   "metadata": {},
   "source": [
    "## From this cell onwards we construct the matrices\n",
    "We need \n",
    "* H, \n",
    "* H0\n",
    "* b\n",
    "* weights \n",
    "* delta_t"
   ]
  },
  {
   "cell_type": "code",
   "execution_count": 25,
   "id": "7aa6925a-4096-4cb7-bacd-3aa581784483",
   "metadata": {},
   "outputs": [
    {
     "name": "stderr",
     "output_type": "stream",
     "text": [
      "/home/carlos.hernandez/dl/lib/python3.8/site-packages/sklearn/base.py:450: UserWarning: X does not have valid feature names, but CoxPHSurvivalAnalysis was fitted with feature names\n",
      "  warnings.warn(\n"
     ]
    }
   ],
   "source": [
    "# Constants\n",
    "epsilon = 0.000001\n",
    "m = len(times_to_fill)\n",
    "\n",
    "# Variable of interest\n",
    "b = cp.Variable(shape=(1,1))\n",
    "\n",
    "# Compute the H for all the neighbours\n",
    "yss = model.predict_cumulative_hazard_function(inverse)\n",
    "H = np.reshape([x.y for x in yss], (num_neighbours, m))\n",
    "LnH = cp.log(H+epsilon)\n",
    "\n",
    "# Baseline cumulative hazard \n",
    "H0 = np.reshape(Ho_t_, (m,1))\n",
    "LnH0 = cp.log(H0+epsilon)\n",
    "\n",
    "# Compute the log correction\n",
    "logs = np.reshape(log_correction, (num_neighbours, m))\n",
    "\n",
    "\n",
    "\n",
    "# Distance weights\n",
    "w = np.reshape(weights, (num_neighbours,1))\n",
    "\n",
    "# Time differences\n",
    "t = times_to_fill.copy()\n",
    "t.append(t[-1]+1)\n",
    "delta_t = [t[i+1] - t[i] for i in range(m)]\n",
    "delta_t = np.reshape(np.array(delta_t), newshape=(m, 1))"
   ]
  },
  {
   "cell_type": "code",
   "execution_count": 26,
   "id": "0d0bdee9-da8f-465c-b770-9b2e8900f916",
   "metadata": {},
   "outputs": [],
   "source": [
    "# Matrices to produce the propper sizes\n",
    "ones_N = np.ones(shape=(num_neighbours, 1))\n",
    "ones_m_1 = np.ones(shape=(m, 1))\n",
    "\n",
    "logs_sq = cp.square(logs)\n",
    "B = ones_N @ LnH0.T\n",
    "C = LnH-B\n",
    "Z = scaled_data@b\n",
    "D = Z@ones_m_1.T\n",
    "\n",
    "E = C - D\n",
    "E_sq = cp.square(E)\n",
    "F = cp.multiply(logs_sq, E_sq)\n",
    "G = F@ delta_t\n",
    "funct = G.T@w\n",
    "objective = cp.Minimize(funct)\n",
    "prob = cp.Problem(objective)\n",
    "result = prob.solve(verbose=False)"
   ]
  },
  {
   "cell_type": "code",
   "execution_count": 27,
   "id": "5a77c4ac-b930-4fda-85ee-260dc226c79d",
   "metadata": {},
   "outputs": [
    {
     "data": {
      "text/plain": [
       "array([[6.98837568e+10]])"
      ]
     },
     "execution_count": 27,
     "metadata": {},
     "output_type": "execute_result"
    }
   ],
   "source": [
    "funct.value"
   ]
  },
  {
   "cell_type": "code",
   "execution_count": 28,
   "id": "17b79ef4-cff2-4337-aaa5-2bf93b8571c8",
   "metadata": {},
   "outputs": [
    {
     "name": "stderr",
     "output_type": "stream",
     "text": [
      "/home/carlos.hernandez/dl/lib/python3.8/site-packages/sklearn/base.py:450: UserWarning: X does not have valid feature names, but CoxPHSurvivalAnalysis was fitted with feature names\n",
      "  warnings.warn(\n"
     ]
    },
    {
     "data": {
      "image/png": "[encoded data removed]",
      "text/plain": [
       "<Figure size 1080x360 with 2 Axes>"
      ]
     },
     "metadata": {
      "needs_background": "light"
     },
     "output_type": "display_data"
    }
   ],
   "source": [
    "# Coefficient coppied from survLime/scripts/experiment_1.create_clusters\n",
    "coefficients = [0.2]# [10**(-6), 0.1,  -0.15, 10**(-6), 10**(-6)] \n",
    "values = [x[0] for x in b.value]\n",
    "compare_survival_times(model, values, x_train_1, y_train_1, x_test_1, true_coef=coefficients)"
   ]
  },
  {
   "cell_type": "code",
   "execution_count": 30,
   "id": "58d9cdc1-832e-4b27-80e5-9fbec03334a8",
   "metadata": {},
   "outputs": [
    {
     "name": "stderr",
     "output_type": "stream",
     "text": [
      "[autoreload of survLime.utils.generic_utils failed: Traceback (most recent call last):\n",
      "  File \"/home/carlos.hernandez/dl/lib/python3.8/site-packages/IPython/extensions/autoreload.py\", line 245, in check\n",
      "    superreload(m, reload, self.old_objects)\n",
      "  File \"/home/carlos.hernandez/dl/lib/python3.8/site-packages/IPython/extensions/autoreload.py\", line 394, in superreload\n",
      "    module = reload(module)\n",
      "  File \"/usr/lib/python3.8/imp.py\", line 314, in reload\n",
      "    return importlib.reload(module)\n",
      "  File \"/usr/lib/python3.8/importlib/__init__.py\", line 169, in reload\n",
      "    _bootstrap._exec(spec, module)\n",
      "  File \"<frozen importlib._bootstrap>\", line 604, in _exec\n",
      "  File \"<frozen importlib._bootstrap_external>\", line 844, in exec_module\n",
      "  File \"<frozen importlib._bootstrap_external>\", line 981, in get_code\n",
      "  File \"<frozen importlib._bootstrap_external>\", line 911, in source_to_code\n",
      "  File \"<frozen importlib._bootstrap>\", line 219, in _call_with_frames_removed\n",
      "  File \"/home/carlos.hernandez/PhD/SurvLIME/survLime/utils/generic_utils.py\", line 7\n",
      "    <<<<<<< HEAD\n",
      "    ^\n",
      "SyntaxError: invalid syntax\n",
      "]\n"
     ]
    }
   ],
   "source": [
    "# Good luck"
   ]
  }
 ],
 "metadata": {
  "kernelspec": {
   "display_name": "Python 3 (ipykernel)",
   "language": "python",
   "name": "python3"
  },
  "language_info": {
   "codemirror_mode": {
    "name": "ipython",
    "version": 3
   },
   "file_extension": ".py",
   "mimetype": "text/x-python",
   "name": "python",
   "nbconvert_exporter": "python",
   "pygments_lexer": "ipython3",
   "version": "3.8.10"
  }
 },
 "nbformat": 4,
 "nbformat_minor": 5
}
