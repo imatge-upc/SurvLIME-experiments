{
 "cells": [
  {
   "cell_type": "code",
   "execution_count": null,
   "id": "49eb31d5-f9c3-4a5a-89b8-c543b8f9e4bd",
   "metadata": {},
   "outputs": [],
   "source": [
    "%load_ext autoreload\n",
    "%autoreload 2\n",
    "import os\n",
    "os.chdir(os.path.dirname(os.getcwd()))\n",
    "import cvxpy as cp\n",
    "import numpy as np\n",
    "from sksurv.linear_model import CoxPHSurvivalAnalysis\n",
    "from sklearn.model_selection import train_test_split\n",
    "from survLime.datasets.load_datasets import RandomSurvivalData\n",
    "from survLime import survlime_tabular\n",
    "from survLime.scripts.experiment_1 import create_clusters\n",
    "from survLime.utils.generic_utils import compare_survival_times\n",
    "np.random.seed(42)"
   ]
  },
  {
   "cell_type": "code",
   "execution_count": null,
   "id": "0628d953",
   "metadata": {},
   "outputs": [],
   "source": [
    "# Create clusters can be found in scripts/experiment_1\n",
    "cluster_0, cluster_1 = create_clusters()\n",
    "x_train_1, x_test_1, y_train_1, y_test_1 = train_test_split(cluster_0[0],\n",
    "                                                            cluster_0[1], test_size=0.1)\n",
    "times = [x[1] for x in y_train_1]\n",
    "times_to_fill = list(set(times))\n",
    "times_to_fill.sort() "
   ]
  },
  {
   "cell_type": "code",
   "execution_count": null,
   "id": "00d68631-9152-46ec-adb7-0e7133416f9e",
   "metadata": {},
   "outputs": [],
   "source": [
    "# Train bb model\n",
    "columns =['one']\n",
    "model = CoxPHSurvivalAnalysis(alpha=0.0001)\n",
    "model.fit(x_train_1, y_train_1)\n",
    "model.feature_names_in_ = columns # This is needed in order to compare survival times later\n",
    "\n",
    "# Obtain a test point to use for prediction\n",
    "test_point = x_test_1[0]"
   ]
  },
  {
   "cell_type": "code",
   "execution_count": null,
   "id": "bbd456a5-0fa1-4393-b5d9-04d10715dae7",
   "metadata": {},
   "outputs": [],
   "source": [
    "# We instantiate an explainer (found in survlime_tabular)\n",
    "\n",
    "# ['one','two',' three', 'four', 'five']\n",
    "\n",
    "explainer = survlime_tabular.LimeTabularExplainer(x_train_1, y_train_1,\n",
    "                                                  feature_names= columns,\n",
    "                                                  class_names=None, \n",
    "                                                  categorical_features=None,\n",
    "                                                  verbose=True, discretize_continuous=False)\n",
    "num_neighbours = 1000\n",
    "# From here we are only using log_correction, Ho_t_ and inverse \n",
    "H_i_j_wc, weights, log_correction, Ho_t_, scaled_data, inverse, distances = explainer.explain_instance(test_point\n",
    "                                                                ,model.predict_cumulative_hazard_function,\n",
    "                                                            num_samples = num_neighbours)"
   ]
  },
  {
   "cell_type": "code",
   "execution_count": null,
   "id": "bebd8753",
   "metadata": {},
   "outputs": [],
   "source": [
    "scaled_data.shape"
   ]
  },
  {
   "cell_type": "markdown",
   "id": "989057ab-d55f-4a9b-91fb-136a40a0c9a8",
   "metadata": {},
   "source": [
    "## From this cell onwards we construct the matrices\n",
    "We need \n",
    "* H, \n",
    "* H0\n",
    "* b\n",
    "* weights \n",
    "* delta_t"
   ]
  },
  {
   "cell_type": "code",
   "execution_count": null,
   "id": "7aa6925a-4096-4cb7-bacd-3aa581784483",
   "metadata": {},
   "outputs": [],
   "source": [
    "# Constants\n",
    "epsilon = 0.000001\n",
    "m = len(times_to_fill)\n",
    "\n",
    "# Variable of interest\n",
    "b = cp.Variable(shape=(1,1))\n",
    "\n",
    "# Compute the H for all the neighbours\n",
    "yss = model.predict_cumulative_hazard_function(scaled_data, return_array=True)\n",
    "\n",
    "H = yss.copy()\n",
    "LnH = np.log(H)\n",
    "\n",
    "# Baseline cumulative hazard \n",
    "H0 = np.reshape(Ho_t_, (m,1))\n",
    "LnH0 = np.log(H0)\n",
    "\n",
    "# Compute the log correction\n",
    "logs = np.reshape(log_correction, (num_neighbours, m))\n",
    "\n",
    "# Distance weights\n",
    "w = np.reshape(weights, (num_neighbours,1))\n",
    "\n",
    "# Time differences\n",
    "t = times_to_fill.copy()\n",
    "t.append(t[-1]+1)\n",
    "delta_t = [t[i+1] - t[i] for i in range(m)]\n",
    "delta_t = np.reshape(np.array(delta_t), newshape=(m, 1))"
   ]
  },
  {
   "cell_type": "code",
   "execution_count": null,
   "id": "0d0bdee9-da8f-465c-b770-9b2e8900f916",
   "metadata": {},
   "outputs": [],
   "source": [
    "# Matrices to produce the propper sizes\n",
    "ones_N = np.ones(shape=(num_neighbours, 1))\n",
    "ones_m_1 = np.ones(shape=(m, 1))\n",
    "\n",
    "B = np.dot(ones_N, LnH0.T)\n",
    "C = LnH-B\n",
    "\n",
    "Z = scaled_data@b\n",
    "D = Z@ones_m_1.T\n",
    "\n",
    "E = C - D\n",
    "E_sq = cp.square(E)\n",
    "\n",
    "F = E_sq@delta_t\n",
    "funct = F.T@w\n",
    "objective = cp.Minimize(funct)\n",
    "prob = cp.Problem(objective)\n",
    "result = prob.solve()"
   ]
  },
  {
   "cell_type": "code",
   "execution_count": null,
   "id": "5a77c4ac-b930-4fda-85ee-260dc226c79d",
   "metadata": {},
   "outputs": [],
   "source": [
    "print(funct.value)\n",
    "print(b.value)\n",
    "print(model.coef_)"
   ]
  },
  {
   "cell_type": "code",
   "execution_count": null,
   "id": "17b79ef4-cff2-4337-aaa5-2bf93b8571c8",
   "metadata": {},
   "outputs": [],
   "source": [
    "# Coefficient coppied from survLime/scripts/experiment_1.create_clusters\n",
    "coefficients = [0.2]# [10**(-6), 0.1,  -0.15, 10**(-6), 10**(-6)] \n",
    "values = [x[0] for x in b.value]\n",
    "compare_survival_times(model, values, x_train_1, y_train_1, x_test_1, true_coef=coefficients)"
   ]
  }
 ],
 "metadata": {
  "kernelspec": {
   "display_name": ".sv_paper",
   "language": "python",
   "name": ".sv_paper"
  },
  "language_info": {
   "codemirror_mode": {
    "name": "ipython",
    "version": 3
   },
   "file_extension": ".py",
   "mimetype": "text/x-python",
   "name": "python",
   "nbconvert_exporter": "python",
   "pygments_lexer": "ipython3",
   "version": "3.9.7"
  }
 },
 "nbformat": 4,
 "nbformat_minor": 5
}
