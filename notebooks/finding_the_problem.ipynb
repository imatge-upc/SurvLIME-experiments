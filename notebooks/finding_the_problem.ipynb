{
 "cells": [
  {
   "cell_type": "code",
   "execution_count": 21,
   "id": "49eb31d5-f9c3-4a5a-89b8-c543b8f9e4bd",
   "metadata": {},
   "outputs": [
    {
     "name": "stdout",
     "output_type": "stream",
     "text": [
      "The autoreload extension is already loaded. To reload it, use:\n",
      "  %reload_ext autoreload\n"
     ]
    }
   ],
   "source": [
    "%load_ext autoreload\n",
    "%autoreload 2\n",
    "import os\n",
    "os.chdir(os.path.dirname(os.getcwd()))\n",
    "import cvxpy as cp\n",
    "import numpy as np\n",
    "from sksurv.linear_model import CoxPHSurvivalAnalysis\n",
    "from sklearn.model_selection import train_test_split\n",
    "from survLime.datasets.load_datasets import RandomSurvivalData\n",
    "from survLime import survlime_tabular\n",
    "from survLime.scripts.experiment_1 import create_clusters\n",
    "from survLime.utils.generic_utils import compare_survival_times\n",
    "#np.random.seed(42)"
   ]
  },
  {
   "cell_type": "code",
   "execution_count": 22,
   "id": "0628d953",
   "metadata": {},
   "outputs": [],
   "source": [
    "# Create clusters can be found in scripts/experiment_1\n",
    "cluster_0, cluster_1 = create_clusters()\n",
    "x_train_1, x_test_1, y_train_1, y_test_1 = train_test_split(cluster_0[0],\n",
    "                                                            cluster_0[1], test_size=0.1)\n",
    "times = [x[1] for x in y_train_1]\n",
    "times_to_fill = list(set(times))\n",
    "times_to_fill.sort() \n",
    "m = len(times_to_fill)"
   ]
  },
  {
   "cell_type": "code",
   "execution_count": 23,
   "id": "00d68631-9152-46ec-adb7-0e7133416f9e",
   "metadata": {},
   "outputs": [],
   "source": [
    "# Train bb model\n",
    "columns =[f'feat_{i}' for i in range(x_train_1.shape[1])]\n",
    "model = CoxPHSurvivalAnalysis(alpha=0.0001)\n",
    "model.fit(x_train_1, y_train_1)\n",
    "model.feature_names_in_ = columns # This is needed in order to compare survival times later\n",
    "\n",
    "# Obtain a test point to use for prediction\n",
    "test_point = x_test_1[0]"
   ]
  },
  {
   "cell_type": "code",
   "execution_count": 24,
   "id": "bbd456a5-0fa1-4393-b5d9-04d10715dae7",
   "metadata": {},
   "outputs": [
    {
     "name": "stderr",
     "output_type": "stream",
     "text": [
      "/home/carlos.hernandez/dl/lib/python3.8/site-packages/sklearn/base.py:450: UserWarning: X does not have valid feature names, but CoxPHSurvivalAnalysis was fitted with feature names\n",
      "  warnings.warn(\n"
     ]
    }
   ],
   "source": [
    "# We instantiate an explainer (found in survlime_tabular)\n",
    "\n",
    "# ['one','two',' three', 'four', 'five']\n",
    "\n",
    "explainer = survlime_tabular.LimeTabularExplainer(x_train_1, y_train_1,\n",
    "                                                  feature_names= columns,\n",
    "                                                  class_names=None, \n",
    "                                                  categorical_features=None,\n",
    "                                                  verbose=True, discretize_continuous=False)\n",
    "num_neighbours = 1000\n",
    "# From here we are only using log_correction, Ho_t_ and inverse \n",
    "H_i_j_wc, weights, log_correction, Ho_t_, scaled_data, inverse, distances = explainer.explain_instance(test_point\n",
    "                                                                ,model.predict_cumulative_hazard_function,\n",
    "                                                            num_samples = num_neighbours)"
   ]
  },
  {
   "cell_type": "code",
   "execution_count": 25,
   "id": "c30c8ae5",
   "metadata": {},
   "outputs": [
    {
     "name": "stdout",
     "output_type": "stream",
     "text": [
      "1.673144683318287\n"
     ]
    }
   ],
   "source": [
    "cbh_model = model.cum_baseline_hazard_.y.reshape(m, 1)\n",
    "cbh_na = Ho_t_.reshape(m, 1)\n",
    "diff = np.abs(cbh_na - cbh_model)\n",
    "print(diff.max())"
   ]
  },
  {
   "cell_type": "markdown",
   "id": "989057ab-d55f-4a9b-91fb-136a40a0c9a8",
   "metadata": {},
   "source": [
    "## From this cell onwards we construct the matrices\n",
    "We need \n",
    "* H\n",
    "* H0\n",
    "* b\n",
    "* weights \n",
    "* delta_t"
   ]
  },
  {
   "cell_type": "code",
   "execution_count": 26,
   "id": "7aa6925a-4096-4cb7-bacd-3aa581784483",
   "metadata": {},
   "outputs": [
    {
     "name": "stderr",
     "output_type": "stream",
     "text": [
      "/home/carlos.hernandez/dl/lib/python3.8/site-packages/sklearn/base.py:450: UserWarning: X does not have valid feature names, but CoxPHSurvivalAnalysis was fitted with feature names\n",
      "  warnings.warn(\n"
     ]
    }
   ],
   "source": [
    "# Constants\n",
    "epsilon = 0.000001\n",
    "m = len(times_to_fill)\n",
    "\n",
    "# Variable of interest\n",
    "b = cp.Variable(shape=(scaled_data.shape[1],1))\n",
    "\n",
    "# Compute the H for all the neighbours\n",
    "yss = model.predict_cumulative_hazard_function(scaled_data, return_array=True)\n",
    "\n",
    "H = yss.copy()\n",
    "LnH = np.log(H)\n",
    "\n",
    "# Baseline cumulative hazard \n",
    "#H0 = np.reshape(Ho_t_, (m,1))\n",
    "H0 = model.cum_baseline_hazard_.y.reshape(m, 1)\n",
    "LnH0 = np.log(H0)\n",
    "\n",
    "# Compute the log correction\n",
    "logs = np.reshape(log_correction, (num_neighbours, m))\n",
    "\n",
    "# Distance weights\n",
    "w = np.reshape(weights, (num_neighbours,1))\n",
    "\n",
    "# Time differences\n",
    "t = times_to_fill.copy()\n",
    "t.append(t[-1]+1)\n",
    "delta_t = [t[i+1] - t[i] for i in range(m)]\n",
    "delta_t = np.reshape(np.array(delta_t), newshape=(m, 1))"
   ]
  },
  {
   "cell_type": "code",
   "execution_count": 27,
   "id": "0d0bdee9-da8f-465c-b770-9b2e8900f916",
   "metadata": {},
   "outputs": [
    {
     "name": "stdout",
     "output_type": "stream",
     "text": [
      "===============================================================================\n",
      "                                     CVXPY                                     \n",
      "                                     v1.2.1                                    \n",
      "===============================================================================\n",
      "(CVXPY) Aug 29 10:29:45 AM: Your problem has 5 variables, 0 constraints, and 0 parameters.\n",
      "(CVXPY) Aug 29 10:29:45 AM: It is compliant with the following grammars: DCP, DQCP\n",
      "(CVXPY) Aug 29 10:29:45 AM: (If you need to solve this problem multiple times, but with different data, consider using parameters.)\n",
      "(CVXPY) Aug 29 10:29:45 AM: CVXPY will first compile your problem; then, it will invoke a numerical solver to obtain a solution.\n",
      "-------------------------------------------------------------------------------\n",
      "                                  Compilation                                  \n",
      "-------------------------------------------------------------------------------\n",
      "(CVXPY) Aug 29 10:29:45 AM: Compiling problem (target solver=OSQP).\n",
      "(CVXPY) Aug 29 10:29:45 AM: Reduction chain: CvxAttr2Constr -> Qp2SymbolicQp -> QpMatrixStuffing -> OSQP\n",
      "(CVXPY) Aug 29 10:29:45 AM: Applying reduction CvxAttr2Constr\n",
      "(CVXPY) Aug 29 10:29:45 AM: Applying reduction Qp2SymbolicQp\n",
      "(CVXPY) Aug 29 10:29:45 AM: Applying reduction QpMatrixStuffing\n",
      "(CVXPY) Aug 29 10:29:46 AM: Applying reduction OSQP\n",
      "(CVXPY) Aug 29 10:29:46 AM: Finished problem compilation (took 1.036e+00 seconds).\n",
      "-------------------------------------------------------------------------------\n",
      "                                Numerical solver                               \n",
      "-------------------------------------------------------------------------------\n",
      "(CVXPY) Aug 29 10:29:46 AM: Invoking solver OSQP  to obtain a solution.\n",
      "-----------------------------------------------------------------\n",
      "           OSQP v0.6.2  -  Operator Splitting QP Solver\n",
      "              (c) Bartolomeo Stellato,  Goran Banjac\n",
      "        University of Oxford  -  Stanford University 2021\n",
      "-----------------------------------------------------------------\n",
      "problem:  variables n = 690005, constraints m = 690000\n",
      "          nnz(P) + nnz(A) = 4830000\n",
      "settings: linear system solver = qdldl,\n",
      "          eps_abs = 1.0e-05, eps_rel = 1.0e-05,\n",
      "          eps_prim_inf = 1.0e-04, eps_dual_inf = 1.0e-04,\n",
      "          rho = 1.00e-01 (adaptive),\n",
      "          sigma = 1.00e-06, alpha = 1.60, max_iter = 10000\n",
      "          check_termination: on (interval 25),\n",
      "          scaling: on, scaled_termination: off\n",
      "          warm start: on, polish: on, time_limit: off\n",
      "\n",
      "iter   objective    pri res    dua res    rho        time\n",
      "   1   0.0000e+00   6.25e-01   3.54e+07   1.00e-01   7.21e-01s\n",
      "  75   5.4496e-20   1.60e-10   1.10e-09   1.00e-06   2.53e+00s\n",
      "plsh   2.4977e-20   1.05e-14   3.10e-11   --------   3.01e+00s\n",
      "\n",
      "status:               solved\n",
      "solution polish:      successful\n",
      "number of iterations: 75\n",
      "optimal objective:    0.0000\n",
      "run time:             3.01e+00s\n",
      "optimal rho estimate: 1.00e-06\n",
      "\n",
      "-------------------------------------------------------------------------------\n",
      "                                    Summary                                    \n",
      "-------------------------------------------------------------------------------\n",
      "(CVXPY) Aug 29 10:29:49 AM: Problem status: optimal\n",
      "(CVXPY) Aug 29 10:29:49 AM: Optimal value: 3.843e-20\n",
      "(CVXPY) Aug 29 10:29:49 AM: Compilation took 1.036e+00 seconds\n",
      "(CVXPY) Aug 29 10:29:49 AM: Solver (including time spent in interface) took 3.115e+00 seconds\n"
     ]
    }
   ],
   "source": [
    "# Matrices to produce the propper sizes\n",
    "ones_N = np.ones(shape=(num_neighbours, 1))\n",
    "ones_m_1 = np.ones(shape=(m, 1))\n",
    "\n",
    "B = np.dot(ones_N, LnH0.T)\n",
    "C = LnH-B\n",
    "\n",
    "Z = scaled_data@b\n",
    "D = Z@ones_m_1.T\n",
    "\n",
    "E = C - D\n",
    "E_sq = cp.square(E)\n",
    "\n",
    "V_sq = cp.square(logs)\n",
    "\n",
    "F = cp.multiply(E_sq, V_sq)\n",
    "G = F@delta_t\n",
    "\n",
    "funct = G.T@w\n",
    "objective = cp.Minimize(funct)\n",
    "prob = cp.Problem(objective)\n",
    "result = prob.solve(verbose=True, max_iter=10000)"
   ]
  },
  {
   "cell_type": "code",
   "execution_count": 28,
   "id": "5a77c4ac-b930-4fda-85ee-260dc226c79d",
   "metadata": {},
   "outputs": [
    {
     "name": "stdout",
     "output_type": "stream",
     "text": [
      "[[3.84291455e-20]]\n",
      "[[ 0.00425799]\n",
      " [ 0.08725393]\n",
      " [-0.15234782]\n",
      " [ 0.02343486]\n",
      " [-0.01778417]]\n",
      "[ 0.00425799  0.08725393 -0.15234782  0.02343486 -0.01778417]\n"
     ]
    }
   ],
   "source": [
    "print(funct.value)\n",
    "print(b.value)\n",
    "print(model.coef_)"
   ]
  },
  {
   "cell_type": "code",
   "execution_count": 30,
   "id": "17b79ef4-cff2-4337-aaa5-2bf93b8571c8",
   "metadata": {},
   "outputs": [
    {
     "name": "stdout",
     "output_type": "stream",
     "text": [
      "[1e-06, 0.1, -0.15, 1e-06, 1e-06]\n",
      "[0.004257991745723135, 0.08725392705255614, -0.15234781562571004, 0.023434862657731113, -0.017784170851646016]\n",
      "[ 0.00425799  0.08725393 -0.15234782  0.02343486 -0.01778417]\n"
     ]
    },
    {
     "name": "stderr",
     "output_type": "stream",
     "text": [
      "/home/carlos.hernandez/dl/lib/python3.8/site-packages/sklearn/base.py:450: UserWarning: X does not have valid feature names, but CoxPHSurvivalAnalysis was fitted with feature names\n",
      "  warnings.warn(\n"
     ]
    },
    {
     "data": {
      "image/png": "[encoded data removed]",
      "text/plain": [
       "<Figure size 1080x360 with 2 Axes>"
      ]
     },
     "metadata": {
      "needs_background": "light"
     },
     "output_type": "display_data"
    }
   ],
   "source": [
    "# Coefficient coppied from survLime/scripts/experiment_1.create_clusters\n",
    "coefficients = [10**(-6), 0.1,  -0.15, 10**(-6), 10**(-6)]\n",
    "#coefficients = [0.2]\n",
    "values = [x[0] for x in b.value]\n",
    "print(coefficients)\n",
    "print(values)\n",
    "print(model.coef_)\n",
    "compare_survival_times(model, values, x_train_1, y_train_1, x_test_1, true_coef=coefficients)"
   ]
  },
  {
   "cell_type": "code",
   "execution_count": null,
   "id": "a71127b0-9465-46be-bdc5-b6e9a14dab14",
   "metadata": {},
   "outputs": [],
   "source": []
  }
 ],
 "metadata": {
  "kernelspec": {
   "display_name": "Python 3 (ipykernel)",
   "language": "python",
   "name": "python3"
  },
  "language_info": {
   "codemirror_mode": {
    "name": "ipython",
    "version": 3
   },
   "file_extension": ".py",
   "mimetype": "text/x-python",
   "name": "python",
   "nbconvert_exporter": "python",
   "pygments_lexer": "ipython3",
   "version": "3.8.10"
  }
 },
 "nbformat": 4,
 "nbformat_minor": 5
}
