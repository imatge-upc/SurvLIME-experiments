{
 "cells": [
  {
   "cell_type": "code",
   "execution_count": null,
   "metadata": {},
   "outputs": [],
   "source": [
    "import pandas as pd\n",
    "import os\n",
    "import seaborn as sns\n",
    "from matplotlib import pyplot as plt\n",
    "import numpy as np"
   ]
  },
  {
   "cell_type": "code",
   "execution_count": null,
   "metadata": {},
   "outputs": [],
   "source": [
    "name_file = \"exp_2_cluster_2_max.csv\"\n",
    "title = \"Cluster 2 worse values\"\n",
    "data_folder = os.path.join(os.path.dirname(os.getcwd()), \"survLime\", \"computed_weights_csv\", \"exp2\")\n",
    "file_path =  os.path.join(data_folder, name_file)\n"
   ]
  },
  {
   "cell_type": "code",
   "execution_count": null,
   "metadata": {},
   "outputs": [],
   "source": [
    "data = pd.read_csv(file_path)\n",
    "data.head()"
   ]
  },
  {
   "cell_type": "code",
   "execution_count": null,
   "metadata": {},
   "outputs": [],
   "source": [
    "sns.set()\n",
    "figsize = (10, 10)\n",
    "median_up = {}\n",
    "median_down = {}\n",
    "threshold = 0\n",
    "for (columnName, columnData) in data.items():\n",
    "    median_value = np.median(columnData)\n",
    "    if median_value > threshold:\n",
    "        median_up[columnName] = median_value\n",
    "    else:\n",
    "        median_down[columnName] = median_value\n",
    "\n",
    "median_up = dict(\n",
    "    sorted(median_up.items(), key=lambda item: item[1], reverse=True)\n",
    ")\n",
    "median_down = dict(\n",
    "    sorted(median_down.items(), key=lambda item: item[1], reverse=True)\n",
    ")\n",
    "pal_up = sns.color_palette(\"Reds_r\", n_colors=len(median_up))\n",
    "pal_down = sns.color_palette(\"Blues\", n_colors=len(median_down))\n",
    "colors_up = {key: val for key, val in zip(median_up.keys(), pal_up)}\n",
    "colors_down = {key: val for key, val in zip(median_down.keys(), pal_down)}\n",
    "custom_pal = {**colors_up, **colors_down}\n",
    "data_reindex = data.reindex(columns=custom_pal.keys())\n",
    "data_melt = pd.melt(data_reindex)\n",
    "\n",
    "_, ax = plt.subplots(figsize=figsize)\n",
    "ax.tick_params(labelrotation=90)\n",
    "p = sns.boxenplot(\n",
    "    x=\"variable\",\n",
    "    y=\"value\",\n",
    "    data=data_melt,\n",
    "    palette=custom_pal,\n",
    "    ax=ax,\n",
    ")\n",
    "ax.tick_params(labelrotation=90)\n",
    "ax.set_ylim(-0.5, 0.5)\n",
    "p.set_xlabel(\"Features\", fontsize=14)\n",
    "p.set_ylabel(\"SurvLIME value\", fontsize=14)\n",
    "p.yaxis.grid(True)\n",
    "p.xaxis.grid(True)\n",
    "\n",
    "p.set_title(title, fontsize=16)\n",
    "\n",
    "plt.xticks(fontsize=16, rotation=90)\n",
    "plt.yticks(fontsize=14, rotation=0)\n",
    "\n",
    "plt.show()"
   ]
  }
 ],
 "metadata": {
  "kernelspec": {
   "display_name": ".sv_paper",
   "language": "python",
   "name": ".sv_paper"
  },
  "language_info": {
   "codemirror_mode": {
    "name": "ipython",
    "version": 3
   },
   "file_extension": ".py",
   "mimetype": "text/x-python",
   "name": "python",
   "nbconvert_exporter": "python",
   "pygments_lexer": "ipython3",
   "version": "3.9.7"
  },
  "orig_nbformat": 4
 },
 "nbformat": 4,
 "nbformat_minor": 2
}
