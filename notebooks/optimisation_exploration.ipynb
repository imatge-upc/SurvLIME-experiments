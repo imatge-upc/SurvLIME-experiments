{
 "cells": [
  {
   "cell_type": "code",
   "execution_count": null,
   "id": "42e82a69",
   "metadata": {},
   "outputs": [],
   "source": [
    "import numpy as np"
   ]
  },
  {
   "cell_type": "code",
   "execution_count": null,
   "id": "795c5a0e",
   "metadata": {},
   "outputs": [],
   "source": [
    "# Initial variables\n",
    "np.random.seed(42)\n",
    "p = 2\n",
    "m = 5\n",
    "N = 10\n",
    "H = np.random.uniform(low=0.0, high=1.0, size=(N, m+1))\n",
    "LnH = np.log(H)\n",
    "b = np.random.uniform(low=0.0, high=1.0, size=(p, 1))\n",
    "H0 = np.random.uniform(low=0.0, high=1.0, size=(m+1, 1))\n",
    "LnH0 = np.log(H0)\n",
    "w = np.random.uniform(low=0.0, high=1.0, size=(N, 1))\n",
    "X = np.random.uniform(low=0.0, high=1.0, size=(N, p))\n",
    "t = np.sort(np.random.uniform(low=0.0, high=10.0, size=(m+2, 1)), axis=0)\n",
    "delta_t = [t[i+1, 0] - t[i, 0] for i in range(m+1)]\n",
    "delta_t = np.reshape(np.array(delta_t), newshape=(m+1, 1))"
   ]
  },
  {
   "cell_type": "code",
   "execution_count": null,
   "id": "f21ff94b",
   "metadata": {},
   "outputs": [],
   "source": [
    "# Elementwise expression\n",
    "total_elementwise = 0\n",
    "for k in range(N):\n",
    "    w_k = w[k]\n",
    "    total_time = 0\n",
    "    for j in range(m+1):\n",
    "        ln_Hj_xk = LnH[k, j]\n",
    "        ln_H0j = LnH0[j, 0]\n",
    "        xk = X[k, :]\n",
    "        bx = np.dot(b.T, xk)\n",
    "        current_time = (ln_Hj_xk - ln_H0j - bx)**2 \n",
    "        current_time = current_time*delta_t[j]\n",
    "        total_time += current_time\n",
    "    total_time = w_k*total_time\n",
    "    total_elementwise += total_time\n",
    "print(total_elementwise)"
   ]
  },
  {
   "cell_type": "code",
   "execution_count": null,
   "id": "db7792b0",
   "metadata": {},
   "outputs": [],
   "source": [
    "# Matrixwise expression\n",
    "ones_N = np.ones(shape=(N, 1))\n",
    "ones_m_1 = np.ones(shape=(m+1, 1))\n",
    "B = np.dot(ones_N, LnH0.T)\n",
    "C = LnH-B\n",
    "Z = np.dot(X, b)\n",
    "D = np.dot(Z, ones_m_1.T)\n",
    "E = C - D\n",
    "E_sq = np.multiply(E, E)\n",
    "F = np.dot(E_sq, delta_t)\n",
    "total_matrixwise = np.dot(F.T, w)"
   ]
  },
  {
   "cell_type": "code",
   "execution_count": null,
   "id": "51bb4b39",
   "metadata": {},
   "outputs": [],
   "source": [
    "# Both must be equal\n",
    "print(total_elementwise)\n",
    "print(total_matrixwise)"
   ]
  }
 ],
 "metadata": {
  "kernelspec": {
   "display_name": ".sv_paper",
   "language": "python",
   "name": ".sv_paper"
  },
  "language_info": {
   "codemirror_mode": {
    "name": "ipython",
    "version": 3
   },
   "file_extension": ".py",
   "mimetype": "text/x-python",
   "name": "python",
   "nbconvert_exporter": "python",
   "pygments_lexer": "ipython3",
   "version": "3.9.7"
  }
 },
 "nbformat": 4,
 "nbformat_minor": 5
}
