{
 "cells": [
  {
   "cell_type": "code",
   "execution_count": 1,
   "id": "66574af0-beee-48cc-b3f2-a11a67619229",
   "metadata": {},
   "outputs": [],
   "source": [
    "%load_ext autoreload\n",
    "%autoreload 2\n",
    "\n",
    "import warnings\n",
    "warnings.filterwarnings(\"ignore\")\n",
    "\n",
    "import argparse\n",
    "from typing import Union\n",
    "from functools import partial\n",
    "\n",
    "import numpy as np\n",
    "import pandas as pd\n",
    "from tqdm import tqdm\n",
    "\n",
    "from sksurv.linear_model import CoxPHSurvivalAnalysis\n",
    "from sksurv.ensemble import RandomSurvivalForest\n",
    "\n",
    "from survLime import survlime_explainer\n",
    "from survLime.datasets.load_datasets import Loader\n",
    "\n",
    "\n",
    "def main(args):\n",
    "    if args.dataset == \"all\":\n",
    "        datasets = [\"veterans\", \"udca\", \"lung\", \"pbc\"]\n",
    "    else:\n",
    "        datasets = [args.dataset]\n",
    "    if args.model != \"all\":\n",
    "        models = [args.model]\n",
    "    else:\n",
    "        models = [\"cox\", \"rsf\"]\n",
    "    for model in models:\n",
    "        args.model = model\n",
    "        for i in tqdm(range(args.repetitions)):\n",
    "            for dataset in datasets:\n",
    "                loader = Loader(dataset_name=dataset)\n",
    "                x, events, times = loader.load_data()\n",
    "\n",
    "                train, _, test = loader.preprocess_datasets(x, events, times, random_seed=i)\n",
    "\n",
    "                if args.model == \"cox\":\n",
    "                    model = CoxPHSurvivalAnalysis(alpha=0.0001)\n",
    "                elif args.model == \"rsf\":\n",
    "                    model = RandomSurvivalForest()\n",
    "                else:\n",
    "                    raise AssertionError\n",
    "\n",
    "                model.fit(train[0], train[1])\n",
    "\n",
    "                times_to_fill = list(set([x[1] for x in train[1]]))\n",
    "                times_to_fill.sort()\n",
    "                #H0 = model.cum_baseline_hazard_.y.reshape(len(times_to_fill), 1)\n",
    "\n",
    "                explainer = survlime_explainer.SurvLimeExplainer(\n",
    "                    train[0], train[1], model_output_times=model.event_times_\n",
    "                )\n",
    "\n",
    "                computation_exp = compute_weights(explainer, test[0], model, num_neighbors=args.num_neigh)\n",
    "               # save_path = f\"/home/carlos.hernandez/PhD/survlime-paper/survLime/computed_weights_csv/exp3/{args.model}_exp_{dataset}_surv_weights_na_rand_seed_{i}.csv\"\n",
    "                computation_exp.to_csv(save_path, index=False)\n",
    "\n",
    "\n",
    "def compute_weights(\n",
    "    explainer: survlime_explainer.SurvLimeExplainer,\n",
    "    x_test:  Union[pd.DataFrame, np.ndarray],\n",
    "    model: Union[CoxPHSurvivalAnalysis, RandomSurvivalForest],\n",
    "    num_neighbors: int = 1000\n",
    "):\n",
    "    compt_weights = []\n",
    "    num_pat = num_neighbors\n",
    "    predict_chf = partial(model.predict_cumulative_hazard_function, return_array=True)\n",
    "    for test_point in tqdm(x_test.to_numpy()):\n",
    "        try:\n",
    "            b, _ = explainer.explain_instance(\n",
    "                test_point, predict_chf, verbose=False, num_samples=num_pat\n",
    "            )\n",
    "\n",
    "            b = [x[0] for x in b]\n",
    "        except:\n",
    "            b = [None] * len(test_point)\n",
    "        compt_weights.append(b)\n",
    "\n",
    "    return pd.DataFrame(compt_weights, columns=model.feature_names_in_)"
   ]
  },
  {
   "cell_type": "code",
   "execution_count": 43,
   "id": "634830f0-2903-48e1-8de2-b44e5c538632",
   "metadata": {},
   "outputs": [
    {
     "name": "stderr",
     "output_type": "stream",
     "text": [
      "1it [00:00,  1.42it/s]\n"
     ]
    }
   ],
   "source": [
    "loader = Loader(dataset_name='veterans')\n",
    "x, events, times = loader.load_data()\n",
    "\n",
    "train, _, test = loader.preprocess_datasets(x, events, times, random_seed=0)\n",
    "model = CoxPHSurvivalAnalysis(alpha=0.0001)\n",
    "model = RandomSurvivalForest()\n",
    "model.fit(train[0], train[1])\n",
    "\n",
    "times_to_fill = list(set([x[1] for x in train[1]]))\n",
    "times_to_fill.sort()\n",
    "\n",
    "explainer = survlime_explainer.SurvLimeExplainer(\n",
    "    train[0], train[1], model_output_times=model.event_times_\n",
    ")\n",
    "\n",
    "\n",
    "compt_weights = []\n",
    "num_pat = 1000\n",
    "predict_chf = partial(model.predict_cumulative_hazard_function, return_array=True)\n",
    "for i, test_point in tqdm(enumerate(test[0].to_numpy())):\n",
    "    if i==0:\n",
    "        pass\n",
    "    else:\n",
    "        b, _ = explainer.explain_instance(\n",
    "            test_point, predict_chf, verbose=False, num_samples=num_pat\n",
    "        )\n",
    "        break\n",
    "      "
   ]
  },
  {
   "cell_type": "code",
   "execution_count": 44,
   "id": "35559126-114b-469a-ba2a-88b8fa8d3978",
   "metadata": {},
   "outputs": [
    {
     "data": {
      "text/html": [
       "<iframe\n",
       "    scrolling=\"no\"\n",
       "    width=\"100%\"\n",
       "    height=\"545px\"\n",
       "    src=\"iframe_figures/figure_44.html\"\n",
       "    frameborder=\"0\"\n",
       "    allowfullscreen\n",
       "></iframe>\n"
      ]
     },
     "metadata": {},
     "output_type": "display_data"
    }
   ],
   "source": [
    "%matplotlib inline\n",
    "import plotly.io as pio\n",
    "pio.renderers.default = \"iframe\"\n",
    "explainer.plot()"
   ]
  },
  {
   "cell_type": "code",
   "execution_count": null,
   "id": "d4dd9708-8e7a-4bee-8588-7f563402ab9f",
   "metadata": {},
   "outputs": [],
   "source": []
  }
 ],
 "metadata": {
  "kernelspec": {
   "display_name": "Python 3 (ipykernel)",
   "language": "python",
   "name": "python3"
  },
  "language_info": {
   "codemirror_mode": {
    "name": "ipython",
    "version": 3
   },
   "file_extension": ".py",
   "mimetype": "text/x-python",
   "name": "python",
   "nbconvert_exporter": "python",
   "pygments_lexer": "ipython3",
   "version": "3.8.10"
  }
 },
 "nbformat": 4,
 "nbformat_minor": 5
}
