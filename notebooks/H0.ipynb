{
 "cells": [
  {
   "cell_type": "code",
   "execution_count": null,
   "metadata": {},
   "outputs": [],
   "source": [
    "%load_ext autoreload\n",
    "%autoreload 2\n",
    "import numpy as np\n",
    "from sksurv.linear_model import CoxPHSurvivalAnalysis\n",
    "from sksurv.ensemble import RandomSurvivalForest\n",
    "from survlimepy import SurvLimeExplainer\n",
    "from survlimepy.load_datasets import RandomSurvivalData\n",
    "from xgbse import XGBSEKaplanNeighbors\n",
    "import pandas as pd\n",
    "from pycox.models import DeepHitSingle, CoxPH\n",
    "import torchtuples as tt"
   ]
  },
  {
   "cell_type": "code",
   "execution_count": null,
   "metadata": {},
   "outputs": [],
   "source": [
    "# Generate data\n",
    "n_points = 500\n",
    "true_coef = [1, 2]\n",
    "r = 1\n",
    "center = [0, 0]\n",
    "prob_event = 0.9\n",
    "lambda_weibull = 10**(-6)\n",
    "v_weibull = 2\n",
    "n_features = len(true_coef)\n",
    "\n",
    "rsd = RandomSurvivalData(\n",
    "    center=center,\n",
    "    radius=r,\n",
    "    coefficients=true_coef,\n",
    "    prob_event=prob_event,\n",
    "    lambda_weibull=lambda_weibull,\n",
    "    v_weibull=v_weibull,\n",
    "    time_cap=None,\n",
    "    random_seed=90,\n",
    ")\n",
    "\n",
    "# Train\n",
    "X, time_to_event, delta = rsd.random_survival_data(num_points=n_points)\n",
    "z = [(d, t) for d, t in zip(delta, time_to_event)]\n",
    "y = np.array(z, dtype=[(\"delta\", np.bool_), (\"time_to_event\", np.float32)])\n",
    "total_row_train = X.shape[0]\n",
    "print('total_row_train:', total_row_train)\n",
    "unique_times = np.sort(np.unique(time_to_event))"
   ]
  },
  {
   "cell_type": "code",
   "execution_count": null,
   "metadata": {},
   "outputs": [],
   "source": [
    "# Fit a Cox model\n",
    "cox = CoxPHSurvivalAnalysis()\n",
    "cox.fit(X, y)\n",
    "print(cox.coef_)"
   ]
  },
  {
   "cell_type": "code",
   "execution_count": null,
   "metadata": {},
   "outputs": [],
   "source": [
    "x_new = [0, 0]"
   ]
  },
  {
   "cell_type": "code",
   "execution_count": null,
   "metadata": {},
   "outputs": [],
   "source": [
    "# SurvLime for COX\n",
    "explainer_cox = SurvLimeExplainer(\n",
    "    training_features=X,\n",
    "    training_events=[tp[0] for tp in y],\n",
    "    training_times=[tp[1] for tp in y],\n",
    "    model_output_times=cox.event_times_,\n",
    "    sample_around_instance=True,\n",
    "    random_state=10,\n",
    ")\n",
    "\n",
    "b_cox = explainer_cox.explain_instance(\n",
    "    data_row=x_new,\n",
    "    predict_fn=cox.predict_cumulative_hazard_function,\n",
    "    num_samples=100,\n",
    "    verbose=False,\n",
    ")\n",
    "\n",
    "print(b_cox)\n",
    "#explainer_cox.plot_weights()"
   ]
  },
  {
   "cell_type": "code",
   "execution_count": null,
   "metadata": {},
   "outputs": [],
   "source": [
    "prediction = cox.predict_cumulative_hazard_function(np.array(x_new).reshape(1, -1))"
   ]
  },
  {
   "cell_type": "code",
   "execution_count": null,
   "metadata": {},
   "outputs": [],
   "source": [
    "len(prediction)"
   ]
  }
 ],
 "metadata": {
  "kernelspec": {
   "display_name": ".venv_survLIME",
   "language": "python",
   "name": "python3"
  },
  "language_info": {
   "codemirror_mode": {
    "name": "ipython",
    "version": 3
   },
   "file_extension": ".py",
   "mimetype": "text/x-python",
   "name": "python",
   "nbconvert_exporter": "python",
   "pygments_lexer": "ipython3",
   "version": "3.9.7"
  },
  "orig_nbformat": 4,
  "vscode": {
   "interpreter": {
    "hash": "5125f1d6569b6fddfcceea96a1a5016994ac21200cfc124cf085e7070af32878"
   }
  }
 },
 "nbformat": 4,
 "nbformat_minor": 2
}
