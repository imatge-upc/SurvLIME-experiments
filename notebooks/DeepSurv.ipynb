{
 "cells": [
  {
   "cell_type": "code",
   "execution_count": null,
   "id": "b2602be9",
   "metadata": {},
   "outputs": [],
   "source": [
    "%load_ext autoreload\n",
    "%autoreload 2\n",
    "from pycox.models import CoxPH\n",
    "from survlimepy import SurvLimeExplainer\n",
    "from survlimepy.load_datasets import Loader\n",
    "import torchtuples as tt\n",
    "import numpy as np\n",
    "import pandas as pd\n",
    "from sksurv.metrics import concordance_index_censored\n"
   ]
  },
  {
   "cell_type": "code",
   "execution_count": null,
   "id": "467262eb",
   "metadata": {},
   "outputs": [],
   "source": [
    "# Load UDCA dataset\n",
    "loader = Loader(dataset_name='udca')\n",
    "X, events, times = loader.load_data()\n",
    "X_transformed = X.to_numpy().astype('float32')"
   ]
  },
  {
   "cell_type": "code",
   "execution_count": null,
   "id": "bc98d74e",
   "metadata": {},
   "outputs": [],
   "source": [
    "# Split between train and test\n",
    "n = X.shape[0]\n",
    "n_train = round(0.8 * n)\n",
    "training_features = X_transformed[:n_train]\n",
    "training_events = events[:n_train]\n",
    "training_times = times[:n_train]\n",
    "training_target = (np.array(training_times), np.array(training_events))\n",
    "unique_times = np.sort(np.unique(training_times))\n",
    "test_features = X_transformed[n_train:]"
   ]
  },
  {
   "cell_type": "code",
   "execution_count": null,
   "id": "856faca3",
   "metadata": {},
   "outputs": [],
   "source": [
    "in_features = X.shape[1]\n",
    "num_nodes = [2, 2]\n",
    "batch_norm = True\n",
    "dropout = 0.1\n",
    "output_bias = False\n",
    "batch_size = 256\n",
    "epochs = 512"
   ]
  },
  {
   "cell_type": "code",
   "execution_count": null,
   "id": "af167730",
   "metadata": {},
   "outputs": [],
   "source": [
    "net_deep_surv = tt.practical.MLPVanilla(in_features, num_nodes, 1, batch_norm, dropout, output_bias=output_bias)\n",
    "deep_surv = CoxPH(net_deep_surv, tt.optim.Adam())\n",
    "deep_surv.optimizer.set_lr(0.001)\n",
    "log = deep_surv.fit(\n",
    "    input=training_features,\n",
    "    target=training_target,\n",
    "    batch_size=batch_size,\n",
    "    epochs=epochs,\n",
    "    verbose=False\n",
    ")"
   ]
  },
  {
   "cell_type": "code",
   "execution_count": null,
   "id": "08208846",
   "metadata": {},
   "outputs": [],
   "source": [
    "deep_surv.compute_baseline_cumulative_hazards()"
   ]
  },
  {
   "cell_type": "code",
   "execution_count": null,
   "id": "77cd7a16",
   "metadata": {},
   "outputs": [],
   "source": [
    "def predict_chf(pred_fn):\n",
    "    def inner(X):\n",
    "        pred_values = pred_fn(X)\n",
    "        pred_values = pred_values.to_numpy().T\n",
    "        return pred_values\n",
    "    return inner"
   ]
  },
  {
   "cell_type": "code",
   "execution_count": null,
   "id": "eb03164e",
   "metadata": {},
   "outputs": [],
   "source": [
    "example = np.array([[5.735963, -0.2648227, 1.055282, 0.05477221]]).reshape(1, -1).astype(\"float32\")\n",
    "deep_surv.predict_cumulative_hazards(example)"
   ]
  },
  {
   "cell_type": "code",
   "execution_count": null,
   "id": "1f2cf725",
   "metadata": {},
   "outputs": [],
   "source": [
    "explainer = SurvLimeExplainer(\n",
    "    H0=deep_surv.baseline_cumulative_hazards_.to_numpy(),\n",
    "    training_features=training_features,\n",
    "    training_events=training_events,\n",
    "    training_times=training_times,\n",
    "    model_output_times=unique_times,\n",
    "    sample_around_instance=True,\n",
    "    random_state=10,\n",
    ")\n",
    "\n",
    "b = explainer.montecarlo_explanation(\n",
    "    data=test_features,\n",
    "    predict_fn=predict_chf(deep_surv.predict_cumulative_hazards),\n",
    "    num_samples=30,\n",
    "    num_repetitions=1,\n",
    ")\n"
   ]
  }
 ],
 "metadata": {
  "kernelspec": {
   "display_name": ".venv_survLIME",
   "language": "python",
   "name": "python3"
  },
  "language_info": {
   "codemirror_mode": {
    "name": "ipython",
    "version": 3
   },
   "file_extension": ".py",
   "mimetype": "text/x-python",
   "name": "python",
   "nbconvert_exporter": "python",
   "pygments_lexer": "ipython3",
   "version": "3.9.7"
  },
  "vscode": {
   "interpreter": {
    "hash": "5125f1d6569b6fddfcceea96a1a5016994ac21200cfc124cf085e7070af32878"
   }
  }
 },
 "nbformat": 4,
 "nbformat_minor": 5
}
