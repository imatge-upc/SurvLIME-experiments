{
 "cells": [
  {
   "cell_type": "code",
   "execution_count": null,
   "metadata": {},
   "outputs": [],
   "source": [
    "%load_ext autoreload\n",
    "%autoreload 2\n",
    "import os\n",
    "import numpy as np\n",
    "from sksurv.linear_model import CoxPHSurvivalAnalysis\n",
    "from sksurv.ensemble import RandomSurvivalForest\n",
    "from survLime.survlime_explainer import SurvLimeExplainer\n",
    "from survLime.datasets.load_datasets import RandomSurvivalData\n",
    "from shap import KernelExplainer\n",
    "from functools import partial\n",
    "from sklearn.linear_model import LinearRegression\n",
    "import matplotlib.pyplot as plt"
   ]
  },
  {
   "cell_type": "code",
   "execution_count": null,
   "metadata": {},
   "outputs": [],
   "source": [
    "# Generate data\n",
    "n_points_1 = 500\n",
    "n_points_2 = 500\n",
    "n_points_test_per_cluster = 50\n",
    "true_coef_1 = [1, 1]\n",
    "true_coef_2 = [1, 1]\n",
    "r_1 = 1\n",
    "r_2 = 1\n",
    "center_1 = [0, 0]\n",
    "center_2 = [0.2, 0.2]\n",
    "prob_event_1 = 0.9\n",
    "prob_event_2 = 0.9\n",
    "lambda_weibull_1 = 10**(-6)\n",
    "lambda_weibull_2 = 10**(-6)\n",
    "v_weibull_1 = 2\n",
    "v_weibull_2 = 2.2\n",
    "n_features = len(true_coef_1)\n",
    "\n",
    "rsd_1 = RandomSurvivalData(\n",
    "    center=center_1,\n",
    "    radius=r_1,\n",
    "    coefficients=true_coef_1,\n",
    "    prob_event=prob_event_1,\n",
    "    lambda_weibull=lambda_weibull_1,\n",
    "    v_weibull=v_weibull_1,\n",
    "    time_cap=None,\n",
    "    random_seed=90,\n",
    ")\n",
    "\n",
    "rsd_2 = RandomSurvivalData(\n",
    "    center=center_2,\n",
    "    radius=r_2,\n",
    "    coefficients=true_coef_2,\n",
    "    prob_event=prob_event_2,\n",
    "    lambda_weibull=lambda_weibull_2,\n",
    "    v_weibull=v_weibull_2,\n",
    "    time_cap=None,\n",
    "    random_seed=85,\n",
    ")\n",
    "\n",
    "rsdtest_1 = RandomSurvivalData(\n",
    "    center=center_1,\n",
    "    radius=r_1,\n",
    "    coefficients=true_coef_1,\n",
    "    prob_event=prob_event_1,\n",
    "    lambda_weibull=lambda_weibull_1,\n",
    "    v_weibull=v_weibull_1,\n",
    "    time_cap=None,\n",
    "    random_seed=11,\n",
    ")\n",
    "\n",
    "rsdtest_2 = RandomSurvivalData(\n",
    "    center=center_2,\n",
    "    radius=r_2,\n",
    "    coefficients=true_coef_2,\n",
    "    prob_event=prob_event_2,\n",
    "    lambda_weibull=lambda_weibull_2,\n",
    "    v_weibull=v_weibull_2,\n",
    "    time_cap=None,\n",
    "    random_seed=13,\n",
    ")\n",
    "\n",
    "# Train\n",
    "X_1, time_to_event_1, delta_1 = rsd_1.random_survival_data(num_points=n_points_1)\n",
    "X_2, time_to_event_2, delta_2 = rsd_2.random_survival_data(num_points=n_points_2)\n",
    "z_1 = [(d, t) for d, t in zip(delta_1, time_to_event_1)]\n",
    "z_2 = [(d, t) for d, t in zip(delta_2, time_to_event_2)]\n",
    "y_1 = np.array(z_1, dtype=[(\"delta\", np.bool_), (\"time_to_event\", np.float32)])\n",
    "y_2 = np.array(z_2, dtype=[(\"delta\", np.bool_), (\"time_to_event\", np.float32)])\n",
    "X_train = np.concatenate((X_1, X_2), axis=0)\n",
    "y_train = np.concatenate((y_1, y_2))\n",
    "total_row_train = X_train.shape[0]\n",
    "print('total_row_train:', total_row_train)\n",
    "idx_train = np.arange(total_row_train)\n",
    "np.random.shuffle(idx_train)\n",
    "X_train = X_train[idx_train, :]\n",
    "y_train = y_train[idx_train]\n",
    "\n",
    "# Test\n",
    "X_test_1, time_to_event_test_1, delta_test_1 = rsdtest_1.random_survival_data(num_points=n_points_test_per_cluster)\n",
    "z_test_1 = [(d, t) for d, t in zip(delta_test_1, time_to_event_test_1)]\n",
    "y_test_1 = np.array(z_test_1, dtype=[(\"delta\", np.bool_), (\"time_to_event\", np.float32)])\n",
    "X_test_2, time_to_event_test_2, delta_test_2 = rsdtest_2.random_survival_data(num_points=n_points_test_per_cluster)\n",
    "z_test_2 = [(d, t) for d, t in zip(delta_test_2, time_to_event_test_2)]\n",
    "y_test_2 = np.array(z_test_2, dtype=[(\"delta\", np.bool_), (\"time_to_event\", np.float32)])\n",
    "X_test = np.concatenate((X_test_1, X_test_2), axis=0)\n",
    "y_test = np.concatenate((y_test_1, y_test_2))\n",
    "total_row_test = X_test.shape[0]\n",
    "idx_test = np.arange(total_row_test)\n",
    "np.random.shuffle(idx_test)\n",
    "X_test = X_test[idx_test, :]\n",
    "y_test = y_test[idx_test]\n",
    "\n",
    "\n",
    "print(\"X_train.shape:\", X_train.shape)\n",
    "print(\"X_test.shape:\", X_test.shape)\n",
    "print(\"y_train.shape:\", y_train.shape)\n",
    "print(\"y_test.shape:\", y_test.shape)"
   ]
  },
  {
   "cell_type": "code",
   "execution_count": null,
   "metadata": {},
   "outputs": [],
   "source": [
    "# Point to explain\n",
    "rsd_new = RandomSurvivalData(\n",
    "    center=center_1,\n",
    "    radius=r_1,\n",
    "    coefficients=true_coef_1,\n",
    "    prob_event=prob_event_1,\n",
    "    lambda_weibull=lambda_weibull_1,\n",
    "    v_weibull=v_weibull_1,\n",
    "    time_cap=None,\n",
    "    random_seed=55,\n",
    ")\n",
    "\n",
    "new_point, _, _ = rsd_new.random_survival_data(num_points=1)\n",
    "x_new_list = new_point[0].tolist()\n",
    "x_new = np.array(x_new_list)\n",
    "x_new_shap = np.array([x_new])\n",
    "print(x_new)"
   ]
  },
  {
   "cell_type": "code",
   "execution_count": null,
   "metadata": {},
   "outputs": [],
   "source": [
    "plt.scatter(X_1[:, 0], X_1[:, 1])\n",
    "plt.scatter(X_2[:, 0], X_2[:, 1])"
   ]
  },
  {
   "cell_type": "code",
   "execution_count": null,
   "metadata": {},
   "outputs": [],
   "source": [
    "plt.scatter(X_train[:, 0], X_train[:, 1])"
   ]
  },
  {
   "cell_type": "code",
   "execution_count": null,
   "metadata": {},
   "outputs": [],
   "source": [
    "plt.scatter(X_test[:, 0], X_test[:, 1])"
   ]
  },
  {
   "cell_type": "code",
   "execution_count": null,
   "metadata": {},
   "outputs": [],
   "source": [
    "plt.hist(time_to_event_1)\n",
    "plt.hist(time_to_event_2)"
   ]
  },
  {
   "cell_type": "code",
   "execution_count": null,
   "metadata": {},
   "outputs": [],
   "source": [
    "# Fit a Cox model\n",
    "model = CoxPHSurvivalAnalysis()\n",
    "model.fit(X_train, y_train)\n",
    "print(model.coef_)"
   ]
  },
  {
   "cell_type": "code",
   "execution_count": null,
   "metadata": {},
   "outputs": [],
   "source": [
    "x_prod_b = [x * g for x, g in zip(x_new, true_coef_1)]\n",
    "print(x_prod_b)"
   ]
  },
  {
   "cell_type": "code",
   "execution_count": null,
   "metadata": {},
   "outputs": [],
   "source": [
    "# SurvLime for COX\n",
    "explainer = SurvLimeExplainer(\n",
    "    training_data=X_test,\n",
    "    target_data=y_test,\n",
    "    model_output_times=model.event_times_,\n",
    "    sample_around_instance=True,\n",
    ")\n",
    "\n",
    "b, result = explainer.explain_instance(\n",
    "    data_row=x_new,\n",
    "    predict_fn=partial(model.predict_cumulative_hazard_function, return_array=True),\n",
    "    num_samples=1000,\n",
    ")\n",
    "\n",
    "print('b:', b)\n",
    "importance = [x * c for x, c in zip(x_new, b)]\n",
    "print('importance:', importance)\n",
    "error_survlime = 1/n_features * np.sum(np.square([a1 - a2 for a1, a2 in zip(importance, x_prod_b)]))\n",
    "print('error_survlime:', error_survlime)"
   ]
  },
  {
   "cell_type": "code",
   "execution_count": null,
   "metadata": {},
   "outputs": [],
   "source": [
    "# SHAP for Cox\n",
    "explainer = KernelExplainer(model.predict, X_test)\n",
    "shap_values = explainer.explain(x_new_shap)\n",
    "print('shap_values:', shap_values)\n",
    "error_shap = 1/n_features * np.sum(np.square([a1 - a2 for a1, a2 in zip(shap_values, x_prod_b)]))\n",
    "print('error_shap:', error_shap)"
   ]
  }
 ],
 "metadata": {
  "kernelspec": {
   "display_name": ".sv_paper",
   "language": "python",
   "name": ".sv_paper"
  },
  "language_info": {
   "codemirror_mode": {
    "name": "ipython",
    "version": 3
   },
   "file_extension": ".py",
   "mimetype": "text/x-python",
   "name": "python",
   "nbconvert_exporter": "python",
   "pygments_lexer": "ipython3",
   "version": "3.9.7"
  },
  "orig_nbformat": 4
 },
 "nbformat": 4,
 "nbformat_minor": 2
}
