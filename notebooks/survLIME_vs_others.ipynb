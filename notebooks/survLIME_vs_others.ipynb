{
 "cells": [
  {
   "cell_type": "code",
   "execution_count": null,
   "metadata": {},
   "outputs": [],
   "source": [
    "%load_ext autoreload\n",
    "%autoreload 2\n",
    "import os\n",
    "import numpy as np\n",
    "from sksurv.linear_model import CoxPHSurvivalAnalysis\n",
    "from sksurv.ensemble import RandomSurvivalForest\n",
    "from survLime.survlime_explainer import SurvLimeExplainer\n",
    "from survLime.datasets.load_datasets import RandomSurvivalData\n",
    "from shap import KernelExplainer\n",
    "from functools import partial"
   ]
  },
  {
   "cell_type": "code",
   "execution_count": null,
   "metadata": {},
   "outputs": [],
   "source": [
    "# Generate data\n",
    "rsd = RandomSurvivalData(\n",
    "    center=[0, 0, 0],\n",
    "    radius=1,\n",
    "    coefficients=[1, 1, 1],\n",
    "    prob_event=0.8,\n",
    "    lambda_weibull=10**(-5),\n",
    "    v_weibull=2,\n",
    "    random_seed=99\n",
    " )\n",
    "X, time_to_event, delta = rsd.random_survival_data(num_points=500)\n",
    "z = [(d, int(t)) for d, t in zip(delta, time_to_event)]\n",
    "y = np.array(z, dtype=[(\"delta\", np.bool_), (\"time_to_event\", np.float32)])\n",
    "print(X[:5, ])\n"
   ]
  },
  {
   "cell_type": "code",
   "execution_count": null,
   "metadata": {},
   "outputs": [],
   "source": [
    "# Fit a Cox model\n",
    "model = CoxPHSurvivalAnalysis()\n",
    "model.fit(X, y)\n",
    "print(model.coef_)"
   ]
  },
  {
   "cell_type": "code",
   "execution_count": null,
   "metadata": {},
   "outputs": [],
   "source": [
    "# Fit a random forest\n",
    "rf = RandomSurvivalForest()\n",
    "rf.fit(X, y)"
   ]
  },
  {
   "cell_type": "code",
   "execution_count": null,
   "metadata": {},
   "outputs": [],
   "source": [
    "# Point to explain\n",
    "x_new_list = [0, 0, 0]\n",
    "x_new = np.array(x_new_list)\n",
    "x_new_shap = np.array([x_new_list])\n"
   ]
  },
  {
   "cell_type": "code",
   "execution_count": null,
   "metadata": {},
   "outputs": [],
   "source": [
    "# SurvLime for COX\n",
    "explainer = SurvLimeExplainer(\n",
    "    training_data=X,\n",
    "    target_data=y,\n",
    "    model_output_times=model.event_times_,\n",
    "    sample_around_instance=True,\n",
    ")\n",
    "\n",
    "b, result = explainer.explain_instance(\n",
    "    data_row=x_new,\n",
    "    predict_fn=partial(model.predict_cumulative_hazard_function, return_array=True),\n",
    "    num_samples=100,\n",
    ")\n",
    "print(b)"
   ]
  },
  {
   "cell_type": "code",
   "execution_count": null,
   "metadata": {},
   "outputs": [],
   "source": [
    "# Function predict for Cox\n",
    "pred = model.predict(x_new_shap)\n",
    "print(np.dot(x_new_shap, model.coef_))"
   ]
  },
  {
   "cell_type": "code",
   "execution_count": null,
   "metadata": {},
   "outputs": [],
   "source": [
    "# SHAP for Cox\n",
    "explainer = KernelExplainer(model.predict, X)\n",
    "shap_values = explainer.explain(x_new_shap)\n",
    "print('shap_values:', shap_values)\n",
    "print('sum(shap):', np.sum(shap_values))\n",
    "print('prediction:', model.predict(x_new_shap))\n",
    "print('prediction - mean_predicted_value:', model.predict(x_new_shap) - np.mean(model.predict(X)))"
   ]
  },
  {
   "cell_type": "code",
   "execution_count": null,
   "metadata": {},
   "outputs": [],
   "source": [
    "# SurvLime for rsf\n",
    "explainer_rf = SurvLimeExplainer(\n",
    "    training_data=X,\n",
    "    target_data=y,\n",
    "    model_output_times=rf.event_times_,\n",
    "    sample_around_instance=True,\n",
    ")\n",
    "\n",
    "b_rf, result_rf = explainer_rf.explain_instance(\n",
    "    data_row=x_new,\n",
    "    predict_fn=partial(rf.predict_cumulative_hazard_function, return_array=True),\n",
    "    num_samples=100,\n",
    ")\n",
    "print(b_rf)"
   ]
  },
  {
   "cell_type": "code",
   "execution_count": null,
   "metadata": {},
   "outputs": [],
   "source": [
    "# Predict for RSF\n",
    "rf.predict(x_new_shap)"
   ]
  },
  {
   "cell_type": "code",
   "execution_count": null,
   "metadata": {},
   "outputs": [],
   "source": [
    "# SHAP for RSF\n",
    "explainer_rsf = KernelExplainer(rf.predict, X)\n",
    "shap_values_rsf = explainer_rsf.explain(x_new_shap)\n",
    "print('shap_values:', shap_values_rsf)\n",
    "print('sum(shap):', np.sum(shap_values_rsf))\n",
    "print('prediction:', rf.predict(x_new_shap))\n",
    "print('prediction - mean_predicted_value:', rf.predict(x_new_shap) - np.mean(rf.predict(X)))"
   ]
  }
 ],
 "metadata": {
  "kernelspec": {
   "display_name": ".sv_paper",
   "language": "python",
   "name": ".sv_paper"
  },
  "language_info": {
   "codemirror_mode": {
    "name": "ipython",
    "version": 3
   },
   "file_extension": ".py",
   "mimetype": "text/x-python",
   "name": "python",
   "nbconvert_exporter": "python",
   "pygments_lexer": "ipython3",
   "version": "3.9.7"
  },
  "orig_nbformat": 4
 },
 "nbformat": 4,
 "nbformat_minor": 2
}
