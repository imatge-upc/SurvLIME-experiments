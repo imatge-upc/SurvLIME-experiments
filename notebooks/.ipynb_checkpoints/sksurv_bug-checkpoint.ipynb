{
 "cells": [
  {
   "cell_type": "code",
   "execution_count": null,
   "id": "cd7b52c4",
   "metadata": {},
   "outputs": [],
   "source": [
    "from sksurv.datasets import load_whas500\n",
    "from sksurv.linear_model import CoxPHSurvivalAnalysis\n",
    "import numpy as np"
   ]
  },
  {
   "cell_type": "code",
   "execution_count": null,
   "id": "806e20e1",
   "metadata": {},
   "outputs": [],
   "source": [
    "X, y = load_whas500()\n",
    "X = X.astype(float)\n",
    "X, y = load_whas500()\n",
    "X = X.astype(float)\n",
    "estimator = CoxPHSurvivalAnalysis().fit(X, y)"
   ]
  },
  {
   "cell_type": "markdown",
   "id": "335bc6a0",
   "metadata": {},
   "source": [
    "## Bug"
   ]
  },
  {
   "cell_type": "code",
   "execution_count": null,
   "id": "8f57e608",
   "metadata": {},
   "outputs": [],
   "source": [
    "pred = estimator.predict_cumulative_hazard_function(X.iloc[:1])\n",
    "pred_auto = pred[0].y[0]\n",
    "pred_manual = estimator.cum_baseline_hazard_.y[0]*np.exp(np.dot(X.iloc[:1], estimator.coef_))\n",
    "print('pred_auto:', pred_auto)\n",
    "print('pred_manual:', pred_manual)"
   ]
  },
  {
   "cell_type": "markdown",
   "id": "a2d41d4c",
   "metadata": {},
   "source": [
    "## Bugfix?"
   ]
  },
  {
   "cell_type": "code",
   "execution_count": null,
   "id": "b22d7a1a",
   "metadata": {},
   "outputs": [],
   "source": [
    "pred = estimator.predict_cumulative_hazard_function(X.iloc[:1], return_array=True)\n",
    "pred_auto = pred[0][0]\n",
    "pred_manual = estimator.cum_baseline_hazard_.y[0]*np.exp(np.dot(X.iloc[:1], estimator.coef_))\n",
    "print('pred_auto:', pred_auto)\n",
    "print('pred_manual:', pred_manual)"
   ]
  }
 ],
 "metadata": {
  "kernelspec": {
   "display_name": ".sv_paper",
   "language": "python",
   "name": ".sv_paper"
  },
  "language_info": {
   "codemirror_mode": {
    "name": "ipython",
    "version": 3
   },
   "file_extension": ".py",
   "mimetype": "text/x-python",
   "name": "python",
   "nbconvert_exporter": "python",
   "pygments_lexer": "ipython3",
   "version": "3.9.7"
  }
 },
 "nbformat": 4,
 "nbformat_minor": 5
}
