{
 "cells": [
  {
   "cell_type": "code",
   "execution_count": 18,
   "id": "41c9c85c-d716-4ed6-9cf6-2bcb44a3fdfb",
   "metadata": {},
   "outputs": [
    {
     "name": "stdout",
     "output_type": "stream",
     "text": [
      "The autoreload extension is already loaded. To reload it, use:\n",
      "  %reload_ext autoreload\n"
     ]
    },
    {
     "name": "stderr",
     "output_type": "stream",
     "text": [
      "/home/carlos.hernandez/dl/lib/python3.8/site-packages/pandas/core/series.py:4530: SettingWithCopyWarning: \n",
      "A value is trying to be set on a copy of a slice from a DataFrame\n",
      "\n",
      "See the caveats in the documentation: https://pandas.pydata.org/pandas-docs/stable/user_guide/indexing.html#returning-a-view-versus-a-copy\n",
      "  return super().fillna(\n"
     ]
    }
   ],
   "source": [
    "%load_ext autoreload\n",
    "%autoreload 2\n",
    "import numpy as np\n",
    "import pandas as pd\n",
    "from math import sqrt\n",
    "import scipy as sp\n",
    "\n",
    "import seaborn as sns\n",
    "sns.set()\n",
    "import matplotlib.pyplot as plt\n",
    "from sklearn.metrics import mean_squared_error\n",
    "\n",
    "\n",
    "from sksurv.util import Surv\n",
    "from sksurv.linear_model import CoxPHSurvivalAnalysis\n",
    "from sksurv.ensemble import RandomSurvivalForest\n",
    "from sklearn.model_selection import train_test_split\n",
    "from sklearn.preprocessing import OneHotEncoder, StandardScaler\n",
    "\n",
    "from xgbse.converters import (convert_to_structured, convert_data_to_xgb_format)\n",
    "import xgboost as xgb\n",
    "from xgbse.metrics import concordance_index\n",
    "\n",
    "\n",
    "# Our very own survLime!\n",
    "import survLime\n",
    "from survLime.datasets.load_datasets import Loader \n",
    "from survLime import survlime_explainer\n",
    "\n",
    "dataset = 'udca'\n",
    "loader = Loader(dataset_name=dataset)\n",
    "x,events, times = loader.load_data()\n",
    "\n",
    "\n",
    "train, val, test = loader.preprocess_datasets(x, events, times, random_seed=0, standarize=True)\n",
    "# conver labels\n",
    "train[1] = pd.DataFrame(train[1])\n",
    "val[1] = pd.DataFrame(val[1])\n",
    "test[1] = pd.DataFrame(test[1])\n",
    "\n",
    "y_train = convert_to_structured(train[1]['time'], train[1]['event'])\n",
    "y_val = convert_to_structured(val[1]['time'], val[1]['event'])\n",
    "y_test = convert_to_structured(test[1]['time'], test[1]['event'])\n",
    "\n",
    "# and data\n",
    "dtrain = convert_data_to_xgb_format(train[0], y_train, 'survival:aft')\n",
    "dval = convert_data_to_xgb_format(val[0], y_val, 'survival:aft')\n"
   ]
  },
  {
   "cell_type": "code",
   "execution_count": 29,
   "id": "cac7e7a3-2f03-47ec-befe-495f3f682c4a",
   "metadata": {},
   "outputs": [],
   "source": [
    "# Instantiate some hyperparams\n",
    "PARAMS_XGB_AFT = {\n",
    "    'objective': 'survival:aft', # <- we could also use survival:cox\n",
    "    'eval_metric': 'aft-nloglik',\n",
    "}\n",
    "\n",
    "\n",
    "bst = xgb.train(\n",
    "        PARAMS_XGB_AFT,\n",
    "        dtrain,\n",
    "        num_boost_round=10,\n",
    "        early_stopping_rounds=10,\n",
    "        evals=[(dval, 'val')],\n",
    "        verbose_eval=0\n",
    "    )"
   ]
  },
  {
   "cell_type": "code",
   "execution_count": 21,
   "id": "1c5db0a1-43db-4fac-bf52-9c205967c7b2",
   "metadata": {},
   "outputs": [
    {
     "name": "stdout",
     "output_type": "stream",
     "text": [
      "Hooray we got 0.567 of concordance index\n"
     ]
    }
   ],
   "source": [
    "#dtest = convert_data_to_xgb_format(test[0], y_test, 'survival:aft')\n",
    "dtest = xgb.DMatrix(test[0], label=np.zeros(len(test[0])))\n",
    "\n",
    "preds = bst.predict(dtest)\n",
    "c_index = concordance_index(y_test, -preds, risk_strategy='precomputed')\n",
    "print(f'Hooray we got {round(c_index,3)} of concordance index')"
   ]
  },
  {
   "cell_type": "markdown",
   "id": "90b2ef8a-2a25-412c-a01d-7cacc67a70fd",
   "metadata": {},
   "source": [
    "### Now its SurvTIME! (hehe)"
   ]
  },
  {
   "cell_type": "code",
   "execution_count": 31,
   "id": "c280a35f-dec4-46dd-b3c3-3fd18563160a",
   "metadata": {},
   "outputs": [
    {
     "data": {
      "text/plain": [
       "array([2742.442  , 2742.442  , 3338.7915 , 2742.442  , 2742.442  ,\n",
       "       2280.9048 ,  795.93365, 2742.442  , 5341.677  , 3338.7915 ,\n",
       "       2742.442  , 2742.442  , 2742.442  ,  939.4978 , 7919.159  ,\n",
       "       2742.442  ,  170.53593, 1256.4805 , 1164.961  , 2742.442  ,\n",
       "       2742.442  ,  879.89435, 2742.442  , 2742.442  , 2742.442  ,\n",
       "       2742.442  ], dtype=float32)"
      ]
     },
     "execution_count": 31,
     "metadata": {},
     "output_type": "execute_result"
    }
   ],
   "source": [
    "\n",
    "preds"
   ]
  },
  {
   "cell_type": "code",
   "execution_count": null,
   "id": "0e79d2c1-8759-4326-bdef-8d5bedca1d94",
   "metadata": {},
   "outputs": [],
   "source": []
  }
 ],
 "metadata": {
  "kernelspec": {
   "display_name": "Python 3 (ipykernel)",
   "language": "python",
   "name": "python3"
  },
  "language_info": {
   "codemirror_mode": {
    "name": "ipython",
    "version": 3
   },
   "file_extension": ".py",
   "mimetype": "text/x-python",
   "name": "python",
   "nbconvert_exporter": "python",
   "pygments_lexer": "ipython3",
   "version": "3.8.10"
  }
 },
 "nbformat": 4,
 "nbformat_minor": 5
}
